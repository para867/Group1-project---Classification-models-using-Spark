{
 "cells": [
  {
   "cell_type": "markdown",
   "metadata": {},
   "source": [
    "# Setup the environment"
   ]
  },
  {
   "cell_type": "markdown",
   "metadata": {},
   "source": [
    "Importing the required libraries "
   ]
  },
  {
   "cell_type": "code",
   "execution_count": 2,
   "metadata": {},
   "outputs": [
    {
     "data": {
      "text/html": [
       "\n",
       "        <div>\n",
       "            <p><b>SparkContext</b></p>\n",
       "\n",
       "            <p><a href=\"http://Titan:4042\">Spark UI</a></p>\n",
       "\n",
       "            <dl>\n",
       "              <dt>Version</dt>\n",
       "                <dd><code>v2.4.0</code></dd>\n",
       "              <dt>Master</dt>\n",
       "                <dd><code>local[*]</code></dd>\n",
       "              <dt>AppName</dt>\n",
       "                <dd><code>PySparkShell</code></dd>\n",
       "            </dl>\n",
       "        </div>\n",
       "        "
      ],
      "text/plain": [
       "<SparkContext master=local[*] appName=PySparkShell>"
      ]
     },
     "execution_count": 2,
     "metadata": {},
     "output_type": "execute_result"
    }
   ],
   "source": [
    "from pyspark import SparkContext, SparkConf\n",
    "conf = SparkConf().setAppName('finalProject')\n",
    "\n",
    "sc"
   ]
  },
  {
   "cell_type": "code",
   "execution_count": 1,
   "metadata": {},
   "outputs": [],
   "source": [
    "#from pyspark.sql import SparkSession\n",
    "from pyspark.sql import Row\n",
    "from pyspark.sql import functions\n",
    "from pyspark.mllib.stat import Statistics\n",
    "from pyspark.mllib.regression import LabeledPoint\n",
    "from pyspark.mllib.classification import LogisticRegressionWithLBFGS, LogisticRegressionModel, SVMModel, SVMWithSGD\n",
    "from pyspark.mllib.evaluation import *\n",
    "import numpy as np\n",
    "import matplotlib.pyplot as plt\n",
    "import matplotlib\n",
    "import matplotlib.pylab as pylab\n",
    "import pandas as pd\n",
    "from sklearn.metrics import precision_recall_curve\n",
    "from sklearn.utils.fixes import signature"
   ]
  },
  {
   "cell_type": "code",
   "execution_count": 2,
   "metadata": {},
   "outputs": [],
   "source": [
    "#For the random forest model\n",
    "from pyspark.ml import Pipeline\n",
    "from pyspark.ml.feature import VectorAssembler, VectorIndexer, StringIndexer, SQLTransformer\n",
    "from pyspark.ml.evaluation import BinaryClassificationEvaluator\n",
    "from pyspark.ml.feature import OneHotEncoder\n",
    "from pyspark.ml.tuning import CrossValidator, ParamGridBuilder\n",
    "from sklearn.metrics import roc_curve, auc\n",
    "from pyspark.ml.classification import RandomForestClassifier\n",
    "import pandas as pd\n",
    "import numpy as np"
   ]
  },
  {
   "cell_type": "code",
   "execution_count": 3,
   "metadata": {},
   "outputs": [],
   "source": [
    "# For the Kmeans model\n",
    "from sklearn.cluster import KMeans\n",
    "from sklearn.preprocessing import MinMaxScaler\n",
    "from sklearn.preprocessing import LabelEncoder\n",
    "import seaborn as sns\n",
    "import matplotlib.pyplot as plt\n",
    "from __future__ import division\n",
    "get_ipython().magic(u'matplotlib inline')\n",
    "import pandas as pd\n",
    "import numpy as np"
   ]
  },
  {
   "cell_type": "markdown",
   "metadata": {},
   "source": [
    "# Visualize the data"
   ]
  },
  {
   "cell_type": "markdown",
   "metadata": {},
   "source": [
    "### Individual feature visualizations"
   ]
  },
  {
   "cell_type": "code",
   "execution_count": 309,
   "metadata": {},
   "outputs": [
    {
     "name": "stdout",
     "output_type": "stream",
     "text": [
      "_3\n",
      "            255\n",
      "female    10148\n",
      "male      12784\n",
      "Name: _3, dtype: int64\n"
     ]
    },
    {
     "data": {
      "text/plain": [
       "<matplotlib.axes._subplots.AxesSubplot at 0x7fdabe5cea90>"
      ]
     },
     "execution_count": 309,
     "metadata": {},
     "output_type": "execute_result"
    },
    {
     "data": {
      "image/png": "[encoded data removed]",
      "text/plain": [
       "<matplotlib.figure.Figure at 0x7fdabe70e510>"
      ]
     },
     "metadata": {},
     "output_type": "display_data"
    }
   ],
   "source": [
    "import pandas as pd\n",
    "from pyspark.sql import SQLContext\n",
    "sqlContext = SQLContext(sc)\n",
    "\n",
    "dataFile = sc.textFile(\"file:///home/cloudera/Downloads/data.csv\")\n",
    "def parseLine2(line):\n",
    "    fields = line.split(',')\n",
    "    city = int(fields[1])\n",
    "    age = int(fields[2])\n",
    "    gender = str(fields[3])\n",
    "    registered_via = int(fields[4])\n",
    "    registered_date = str(fields[5])\n",
    "    is_churn = int(fields[7])\n",
    "    payment_method = int(fields[8])\n",
    "    payment_plan_days = int(fields[9])\n",
    "    plan_list_price = int(fields[10])\n",
    "    actual_amount_paid = int(fields[11])\n",
    "    is_auto_renew = int(fields[12])\n",
    "    transaction_date = str(fields[13])\n",
    "    membership_expire_date = str(fields[15])\n",
    "    time_on_board = int(fields[17])\n",
    "    is_cancel =  int(fields[18])\n",
    "    num_25 = str(fields[19])\n",
    "    num_50 = str(fields[20])\n",
    "    num_75 = str(fields[21])\n",
    "    num_985 = str(fields[22])\n",
    "    num_100 = str(fields[23])\n",
    "    num_unq = str(fields[24])\n",
    "    total_secs = str(fields[25])\n",
    "    return (city, \n",
    "            age, \n",
    "            gender, \n",
    "            registered_via, \n",
    "            registered_date, \n",
    "            is_churn,\n",
    "            payment_method,\n",
    "            payment_plan_days,\n",
    "            plan_list_price,\n",
    "           actual_amount_paid,\n",
    "           is_auto_renew,\n",
    "           transaction_date,\n",
    "           membership_expire_date,\n",
    "           time_on_board,\n",
    "           is_cancel,\n",
    "           num_25,\n",
    "           num_50,\n",
    "           num_75,\n",
    "           num_985,\n",
    "           num_100,\n",
    "           num_unq,\n",
    "           total_secs\n",
    "           )\n",
    "\n",
    "parsedData1 =dataFile.map(parseLine2)\n",
    "parsedData1 = parsedData1.toDF()\n",
    "parsedData1 = parsedData1.toPandas()\n",
    "\n",
    "\n",
    "params = {'figure.titlesize':'xx-large'}\n",
    "pylab.rcParams.update(params)\n",
    "\n",
    "\n",
    "matplotlib.style.use('ggplot')\n",
    "%matplotlib inline\n",
    "\n",
    "print(parsedData1.groupby('_3')._3.count())\n",
    "\n",
    "plt.figure().suptitle('Distribution of Genders in DataSet')\n",
    "parsedData1.groupby('_3')._3.count().plot.bar()\n",
    "    \n",
    "\n"
   ]
  },
  {
   "cell_type": "code",
   "execution_count": 310,
   "metadata": {},
   "outputs": [
    {
     "name": "stdout",
     "output_type": "stream",
     "text": [
      "_6\n",
      "0    20447\n",
      "1     2740\n",
      "Name: _6, dtype: int64\n"
     ]
    },
    {
     "data": {
      "text/plain": [
       "<matplotlib.axes._subplots.AxesSubplot at 0x7fdabe59f3d0>"
      ]
     },
     "execution_count": 310,
     "metadata": {},
     "output_type": "execute_result"
    },
    {
     "data": {
      "image/png": "[encoded data removed]",
      "text/plain": [
       "<matplotlib.figure.Figure at 0x7fdabe59f4d0>"
      ]
     },
     "metadata": {},
     "output_type": "display_data"
    }
   ],
   "source": [
    "plt.figure().suptitle('Count of Churns in DataSet: 1 = Churn')\n",
    "print(parsedData1.groupby('_6')._6.count())\n",
    "parsedData1.groupby('_6')._6.count().plot.bar()"
   ]
  },
  {
   "cell_type": "code",
   "execution_count": 311,
   "metadata": {},
   "outputs": [
    {
     "name": "stdout",
     "output_type": "stream",
     "text": [
      "_3\n",
      "            37\n",
      "female    1161\n",
      "male      1542\n",
      "Name: _6, dtype: int64\n"
     ]
    },
    {
     "data": {
      "text/plain": [
       "<matplotlib.axes._subplots.AxesSubplot at 0x7fdabe7cc490>"
      ]
     },
     "execution_count": 311,
     "metadata": {},
     "output_type": "execute_result"
    },
    {
     "data": {
      "image/png": "[encoded data removed]",
      "text/plain": [
       "<matplotlib.figure.Figure at 0x7fdabe08d590>"
      ]
     },
     "metadata": {},
     "output_type": "display_data"
    }
   ],
   "source": [
    "churned = parsedData1[parsedData1._6 == 1]\n",
    "print(churned.groupby('_3')._6.count())\n",
    "matplotlib.style.use('seaborn')\n",
    "plt.figure().suptitle('Distribution of Churns by Gender')\n",
    "churned.groupby('_3')._6.count().plot.bar()"
   ]
  },
  {
   "cell_type": "code",
   "execution_count": 312,
   "metadata": {},
   "outputs": [
    {
     "data": {
      "image/png": "[encoded data removed]",
      "text/plain": [
       "<matplotlib.figure.Figure at 0x7fdabea91f90>"
      ]
     },
     "metadata": {},
     "output_type": "display_data"
    }
   ],
   "source": [
    "matplotlib.style.use('fivethirtyeight')\n",
    "plt.rcParams['figure.figsize']= [14,7]\n",
    "#print(parsedData1.groupby('_2')._2.count())\n",
    "plt.figure().suptitle('Distribution of Dataset by Age')\n",
    "parsedData1.groupby('_2')._2.count().plot.bar()\n",
    "plt.rcParams['figure.figsize']= [5,4]"
   ]
  },
  {
   "cell_type": "markdown",
   "metadata": {},
   "source": [
    "# Build the Support Vector Machine model"
   ]
  },
  {
   "cell_type": "markdown",
   "metadata": {},
   "source": [
    "\n",
    "Below reads in a copy of the original dataset conraining only the numeric values and runs a correlation matrix in preperation of support vector machine model building.\n"
   ]
  },
  {
   "cell_type": "code",
   "execution_count": 313,
   "metadata": {},
   "outputs": [
    {
     "name": "stdout",
     "output_type": "stream",
     "text": [
      "[[ 1.         -0.01554822 -0.06133734 -0.23735009  0.50152512  0.46450568\n",
      "   0.45602716 -0.2921989   0.0047002   0.27554777]\n",
      " [-0.01554822  1.         -0.00460573  0.03765283 -0.02122925 -0.02336196\n",
      "  -0.02398442  0.04448044  0.04754263 -0.01119986]\n",
      " [-0.06133734 -0.00460573  1.          0.08780204 -0.03980385 -0.03184646\n",
      "  -0.0311362   0.26667379  0.07681534  0.01178509]\n",
      " [-0.23735009  0.03765283  0.08780204  1.         -0.30661551 -0.24793639\n",
      "  -0.24046956  0.21348827  0.06113444  0.00612286]\n",
      " [ 0.50152512 -0.02122925 -0.03980385 -0.30661551  1.          0.95842553\n",
      "   0.9565366  -0.30966061  0.0940819  -0.03184937]\n",
      " [ 0.46450568 -0.02336196 -0.03184646 -0.24793639  0.95842553  1.\n",
      "   0.99748467 -0.29459415  0.08364457 -0.02653817]\n",
      " [ 0.45602716 -0.02398442 -0.0311362  -0.24046956  0.9565366   0.99748467\n",
      "   1.         -0.2973673   0.08606542 -0.02541142]\n",
      " [-0.2921989   0.04448044  0.26667379  0.21348827 -0.30966061 -0.29459415\n",
      "  -0.2973673   1.          0.14022643  0.10285249]\n",
      " [ 0.0047002   0.04754263  0.07681534  0.06113444  0.0940819   0.08364457\n",
      "   0.08606542  0.14022643  1.         -0.01625339]\n",
      " [ 0.27554777 -0.01119986  0.01178509  0.00612286 -0.03184937 -0.02653817\n",
      "  -0.02541142  0.10285249 -0.01625339  1.        ]]\n"
     ]
    }
   ],
   "source": [
    "def parsePoint(line):\n",
    "    values = [float(x) for x in line.split(',')]\n",
    "    return (values[0:])\n",
    "\n",
    "data = sc.textFile(\"file:///home/cloudera/Downloads/NumData1.csv\")\n",
    "parsedData = data.map(parsePoint)\n",
    "\n",
    "print(Statistics.corr(parsedData, method=\"pearson\"))\n"
   ]
  },
  {
   "cell_type": "code",
   "execution_count": null,
   "metadata": {
    "collapsed": true
   },
   "outputs": [],
   "source": [
    "params = {'figure.titlesize':'xx-large'}\n",
    "pylab.rcParams.update(params)\n",
    "\n",
    "\n",
    "matplotlib.style.use('ggplot')\n",
    "%matplotlib inline\n",
    "\n",
    "print(parsedData1.groupby('_3')._3.count())\n",
    "\n",
    "plt.figure().suptitle('Distribution of Genders in DataSet')\n",
    "parsedData1.groupby('_3')._3.count().plot.bar()"
   ]
  },
  {
   "cell_type": "markdown",
   "metadata": {},
   "source": [
    "\n",
    "With some correlated data. The support vector machine model is built below\n"
   ]
  },
  {
   "cell_type": "code",
   "execution_count": 299,
   "metadata": {},
   "outputs": [],
   "source": [
    "# Load and parse the data for the regression analysis.\n",
    "def parsePoint(line):\n",
    "    values = [float(x) for x in line.split(',')]\n",
    "    return LabeledPoint(values[0], values[1:])\n",
    "\n",
    "data = sc.textFile(\"file:///home/cloudera/Downloads/NumData2.csv\")\n",
    "parsedData = data.map(parsePoint)\n",
    "\n",
    "# Splits the data into a 60% training 40% testing set with a set seed for repeatability.\n",
    "train, test = parsedData.randomSplit([0.6, 0.4], seed = 2018)\n",
    "\n"
   ]
  },
  {
   "cell_type": "code",
   "execution_count": 300,
   "metadata": {},
   "outputs": [],
   "source": [
    "# Build the model as from Spark 1.6 API documentation. 200 Interations was found to provide good results\n",
    "SVMmodel = SVMWithSGD.train(train, iterations=200)\n",
    "\n",
    "# our true data and predications\n",
    "SVMlabelsAndPreds= train.map(lambda p: (float(SVMmodel.predict(p.features)), p.label)).cache()"
   ]
  },
  {
   "cell_type": "code",
   "execution_count": 302,
   "metadata": {},
   "outputs": [
    {
     "name": "stdout",
     "output_type": "stream",
     "text": [
      "Training Error = 0.104061644822\n",
      "The area under ROC is 0.64 -- A value of 1 is the best\n",
      "The area under the PR is 0.50 -- A value of 1 is the best\n",
      "Confusion Matrix Below: it has a 8% False Negative Rate and a 62% False Positive Rate \n",
      "[[ 11952.    301.]\n",
      " [  1144.    489.]]\n"
     ]
    }
   ],
   "source": [
    "trainErr = SVMlabelsAndPreds.filter(lambda (v, p): v != p).count() / float(train.count())\n",
    "metricsM = MulticlassMetrics(SVMlabelsAndPreds)\n",
    "metricsBC = BinaryClassificationMetrics(SVMlabelsAndPreds)\n",
    "print(\"Training Error = \" + str(trainErr))\n",
    "print(\"The area under ROC is \" + '%.2f' % metricsBC.areaUnderROC + \" -- A value of 1 is the best\")\n",
    "print(\"The area under the PR is \" + '%.2f' % metricsBC.areaUnderPR + \" -- A value of 1 is the best\")\n",
    "print(\"Confusion Matrix Below: it has a 8% False Negative Rate and a 62% False Positive Rate \")\n",
    "print(metricsM.confusionMatrix().toArray())"
   ]
  },
  {
   "cell_type": "markdown",
   "metadata": {},
   "source": [
    "## Visualise the classifier results"
   ]
  },
  {
   "cell_type": "code",
   "execution_count": 291,
   "metadata": {},
   "outputs": [
    {
     "data": {
      "image/png": "[encoded data removed]",
      "text/plain": [
       "<matplotlib.figure.Figure at 0x7fdabdea1dd0>"
      ]
     },
     "metadata": {},
     "output_type": "display_data"
    }
   ],
   "source": [
    "#calculate the fpr and tpr for all thresholds of the classification\n",
    "#adapted from https://stackoverflow.com/questions/25009284/how-to-plot-roc-curve-in-python\n",
    "\n",
    "#convereted to dataframes to use plotting/graphing libraries\n",
    "SVMlabelsAndPreds2 = SVMlabelsAndPreds.toDF()\n",
    "SVMlabelsAndPreds2 = SVMlabelsAndPreds2.toPandas()\n",
    "\n",
    "SVMprobs = SVMlabelsAndPreds2['_2']\n",
    "SVMpreds = SVMlabelsAndPreds2['_1']\n",
    "fpr, tpr, threshold = metrics.roc_curve(SVMprobs, SVMpreds)\n",
    "roc_auc = metrics.auc(fpr, tpr)\n",
    "\n",
    "#start building the graph\n",
    "plt.title('Receiver Operating Characteristic')\n",
    "plt.plot(fpr, tpr, 'b', label = 'AUC = %0.2f' % roc_auc)\n",
    "plt.legend(loc = 'lower right')\n",
    "plt.plot([0, 1], [0, 1],'r--')\n",
    "plt.xlim([0, 1])\n",
    "plt.ylim([0, 1])\n",
    "plt.ylabel('True Positive Rate')\n",
    "plt.xlabel('False Positive Rate')\n",
    "plt.show()"
   ]
  },
  {
   "cell_type": "code",
   "execution_count": 292,
   "metadata": {},
   "outputs": [
    {
     "data": {
      "text/plain": [
       "<matplotlib.text.Text at 0x7fdabe644e10>"
      ]
     },
     "execution_count": 292,
     "metadata": {},
     "output_type": "execute_result"
    },
    {
     "data": {
      "image/png": "[encoded data removed]",
      "text/plain": [
       "<matplotlib.figure.Figure at 0x7fdabdea1b50>"
      ]
     },
     "metadata": {},
     "output_type": "display_data"
    }
   ],
   "source": [
    "# code adapted from scikit-learn.org\n",
    "\n",
    "precision, recall, _ = precision_recall_curve(SVMprobs, SVMpreds)\n",
    "\n",
    "\n",
    "step_kwargs = ({'step': 'post'}\n",
    "               if 'step' in signature(plt.fill_between).parameters\n",
    "               else {})\n",
    "plt.step(recall, precision, color='b', alpha=0.2,\n",
    "         where='post')\n",
    "plt.fill_between(recall, precision, alpha=0.2, color='b', **step_kwargs)\n",
    "\n",
    "plt.xlabel('Recall')\n",
    "plt.ylabel('Precision')\n",
    "plt.ylim([0.0, 1.0])\n",
    "plt.xlim([0.0, 1.0])\n",
    "plt.title('2-class Precision-Recall curve: AP={0:0.2f}'.format(\n",
    "          average_precision))"
   ]
  },
  {
   "cell_type": "code",
   "execution_count": 304,
   "metadata": {},
   "outputs": [
    {
     "name": "stdout",
     "output_type": "stream",
     "text": [
      "The area under ROC is 0.66 -- A value of 1 is the best\n",
      "The area under the PR is 0.42 -- A value of 1 is the best\n",
      "Confusion Matrix Below: it has a 8% False Negative Rate and 32% False Positive Rate \n",
      "[[ 7086.  1108.]\n",
      " [  600.   507.]]\n"
     ]
    }
   ],
   "source": [
    "SvmTestlabelsAndPreds = test.map(lambda p: (float(model.predict(p.features)), p.label)).cache()\n",
    "metricsM = MulticlassMetrics(SvmTestlabelsAndPreds)\n",
    "metricsBC = BinaryClassificationMetrics(SvmTestlabelsAndPreds)\n",
    "print(\"The area under ROC is \" + '%.2f' % metricsBC.areaUnderROC + \" -- A value of 1 is the best\")\n",
    "print(\"The area under the PR is \" + '%.2f' % metricsBC.areaUnderPR + \" -- A value of 1 is the best\")\n",
    "print(\"Confusion Matrix Below: it has a 8% False Negative Rate and 32% False Positive Rate \")\n",
    "print(metricsM.confusionMatrix().toArray())"
   ]
  },
  {
   "cell_type": "markdown",
   "metadata": {},
   "source": [
    "# Logisitic Regression Model"
   ]
  },
  {
   "cell_type": "markdown",
   "metadata": {},
   "source": [
    "We remove the correlated attributes as logisitic regression can be more sensitive to them"
   ]
  },
  {
   "cell_type": "code",
   "execution_count": null,
   "metadata": {
    "collapsed": true
   },
   "outputs": [],
   "source": [
    "def parsePoint(line):\n",
    "    values = [float(x) for x in line.split(',')]\n",
    "    return (values[0:])\n",
    "\n",
    "data = sc.textFile(\"file:///home/cloudera/Downloads/NumData2.csv\")\n",
    "parsedData = data.map(parsePoint)\n",
    "\n",
    "print(Statistics.corr(parsedData, method=\"pearson\"))"
   ]
  },
  {
   "cell_type": "code",
   "execution_count": null,
   "metadata": {
    "collapsed": true
   },
   "outputs": [],
   "source": [
    "# Build the model as from Spark 1.6 API documentation\n",
    "lrModel =  LogisticRegressionWithLBFGS.train(train, iterations=100)\n",
    "\n",
    "# our true data and predications\n",
    "lrLabelsAndPreds= train.map(lambda p: (float(model.predict(p.features)), p.label)).cache()"
   ]
  },
  {
   "cell_type": "markdown",
   "metadata": {},
   "source": [
    "Below starts the metrics for the training data set."
   ]
  },
  {
   "cell_type": "code",
   "execution_count": 243,
   "metadata": {},
   "outputs": [
    {
     "name": "stdout",
     "output_type": "stream",
     "text": [
      "Training Error = 0.0773440875702\n",
      "The area under ROC is 0.71 -- A value of 1 is the best\n",
      "The area under the PR is 0.66 -- A value of 1 is the best\n",
      "Confusion Matrix Below: it has a 7% False Negative Rate and 18.5% False Positive Rate \n",
      "[[ 12089.    164.]\n",
      " [   910.    723.]]\n"
     ]
    }
   ],
   "source": [
    "trainErr = lrLabelsAndPreds.filter(lambda (v, p): v != p).count() / float(train.count())\n",
    "metricsM = MulticlassMetrics(lrLabelsAndPreds)\n",
    "metricsBC = BinaryClassificationMetrics(lrLabelsAndPreds)\n",
    "print(\"Training Error = \" + str(trainErr))\n",
    "print(\"The area under ROC is \" + '%.2f' % metricsBC.areaUnderROC + \" -- A value of 1 is the best\")\n",
    "print(\"The area under the PR is \" + '%.2f' % metricsBC.areaUnderPR + \" -- A value of 1 is the best\")\n",
    "print(\"Confusion Matrix Below: it has a 7% False Negative Rate and 18.5% False Positive Rate \")\n",
    "print(metricsM.confusionMatrix().toArray())\n"
   ]
  },
  {
   "cell_type": "markdown",
   "metadata": {},
   "source": [
    "\n",
    "Below is a graphical representation of the area under ROC and Precision Recall\n"
   ]
  },
  {
   "cell_type": "code",
   "execution_count": 255,
   "metadata": {},
   "outputs": [
    {
     "data": {
      "image/png": "[encoded data removed]",
      "text/plain": [
       "<matplotlib.figure.Figure at 0x7fdabe106f50>"
      ]
     },
     "metadata": {},
     "output_type": "display_data"
    }
   ],
   "source": [
    "#calculate the fpr and tpr for all thresholds of the classification\n",
    "#adapted from https://stackoverflow.com/questions/25009284/how-to-plot-roc-curve-in-python\n",
    "\n",
    "#convereted to dataframes to use plotting/graphing libraries\n",
    "lrLabelsAndPreds2 = lrLabelsAndPreds.toDF()\n",
    "lrLabelsAndPreds2 = lrLabelsAndPreds2.toPandas()\n",
    "\n",
    "probs = lrLabelsAndPreds2['_2']\n",
    "preds = lrLabelsAndPreds2['_1']\n",
    "fpr, tpr, threshold = metrics.roc_curve(probs, preds)\n",
    "roc_auc = metrics.auc(fpr, tpr)\n",
    "\n",
    "#start building the graph\n",
    "plt.title('Receiver Operating Characteristic')\n",
    "plt.plot(fpr, tpr, 'b', label = 'AUC = %0.2f' % roc_auc)\n",
    "plt.legend(loc = 'lower right')\n",
    "plt.plot([0, 1], [0, 1],'r--')\n",
    "plt.xlim([0, 1])\n",
    "plt.ylim([0, 1])\n",
    "plt.ylabel('True Positive Rate')\n",
    "plt.xlabel('False Positive Rate')\n",
    "plt.show()"
   ]
  },
  {
   "cell_type": "code",
   "execution_count": 256,
   "metadata": {},
   "outputs": [
    {
     "data": {
      "text/plain": [
       "<matplotlib.text.Text at 0x7fdabe426990>"
      ]
     },
     "execution_count": 256,
     "metadata": {},
     "output_type": "execute_result"
    },
    {
     "data": {
      "image/png": "[encoded data removed]",
      "text/plain": [
       "<matplotlib.figure.Figure at 0x7fdabda80b90>"
      ]
     },
     "metadata": {},
     "output_type": "display_data"
    }
   ],
   "source": [
    "# code adapted from scikit-learn.org\n",
    "precision, recall, _ = precision_recall_curve(probs, preds)\n",
    "\n",
    "\n",
    "step_kwargs = ({'step': 'post'}\n",
    "               if 'step' in signature(plt.fill_between).parameters\n",
    "               else {})\n",
    "plt.step(recall, precision, color='b', alpha=0.2,\n",
    "         where='post')\n",
    "plt.fill_between(recall, precision, alpha=0.2, color='b', **step_kwargs)\n",
    "\n",
    "plt.xlabel('Recall')\n",
    "plt.ylabel('Precision')\n",
    "plt.ylim([0.0, 1.0])\n",
    "plt.xlim([0.0, 1.0])\n",
    "plt.title('2-class Precision-Recall curve: AP={0:0.2f}'.format(\n",
    "          average_precision))"
   ]
  },
  {
   "cell_type": "markdown",
   "metadata": {},
   "source": [
    "\n",
    "Below starts the the metrics for the test data set. It barely performs better than the training dataset\n"
   ]
  },
  {
   "cell_type": "code",
   "execution_count": 257,
   "metadata": {},
   "outputs": [
    {
     "name": "stdout",
     "output_type": "stream",
     "text": [
      "The area under ROC is 0.72 -- A value of 1 is the best\n",
      "The area under the PR is 0.68 -- A value of 1 is the best\n",
      "Confusion Matrix Below: it has a 7% False Negative Rate and 15% False Positive Rate \n",
      "[[ 8103.    91.]\n",
      " [  602.   505.]]\n"
     ]
    }
   ],
   "source": [
    "lrLabelsAndPreds = test.map(lambda p: (float(lrModel.predict(p.features)), p.label)).cache()\n",
    "metricsM = MulticlassMetrics(lrLabelsAndPreds)\n",
    "metricsBC = BinaryClassificationMetrics(lrLabelsAndPreds)\n",
    "print(\"The area under ROC is \" + '%.2f' % metricsBC.areaUnderROC + \" -- A value of 1 is the best\")\n",
    "print(\"The area under the PR is \" + '%.2f' % metricsBC.areaUnderPR + \" -- A value of 1 is the best\")\n",
    "print(\"Confusion Matrix Below: it has a 7% False Negative Rate and 15% False Positive Rate \")\n",
    "print(metricsM.confusionMatrix().toArray())"
   ]
  },
  {
   "cell_type": "markdown",
   "metadata": {},
   "source": [
    "# Build the Random Forests Model"
   ]
  },
  {
   "cell_type": "markdown",
   "metadata": {},
   "source": [
    "Loading the data from CSV file"
   ]
  },
  {
   "cell_type": "code",
   "execution_count": 6,
   "metadata": {},
   "outputs": [
    {
     "name": "stdout",
     "output_type": "stream",
     "text": [
      "root\n",
      " |-- msno: string (nullable = true)\n",
      " |-- city: integer (nullable = true)\n",
      " |-- bd: integer (nullable = true)\n",
      " |-- gender: string (nullable = true)\n",
      " |-- registered_via: integer (nullable = true)\n",
      " |-- registration_init_time: integer (nullable = true)\n",
      " |-- Column1: string (nullable = true)\n",
      " |-- Is_Churn: integer (nullable = true)\n",
      " |-- payment_method_id: integer (nullable = true)\n",
      " |-- payment_plan_days: integer (nullable = true)\n",
      " |-- plan_list_price: integer (nullable = true)\n",
      " |-- actual_amount_paid: integer (nullable = true)\n",
      " |-- is_auto_renew: integer (nullable = true)\n",
      " |-- transaction_date: integer (nullable = true)\n",
      " |-- Column2: string (nullable = true)\n",
      " |-- membership_expire_date: integer (nullable = true)\n",
      " |-- Column3: string (nullable = true)\n",
      " |-- Time on board: integer (nullable = true)\n",
      " |-- is_cancel: integer (nullable = true)\n",
      " |-- num_25: string (nullable = true)\n",
      " |-- num_50: string (nullable = true)\n",
      " |-- num_75: string (nullable = true)\n",
      " |-- num_985: string (nullable = true)\n",
      " |-- num_100: string (nullable = true)\n",
      " |-- num_unq: string (nullable = true)\n",
      " |-- total_secs: string (nullable = true)\n",
      " |-- Loyalty: integer (nullable = true)\n",
      "\n"
     ]
    }
   ],
   "source": [
    "churn_data = spark.read.csv('file:///home/cloudera/Downloads/data.csv', header=True, inferSchema=True)\n",
    "churn_data.printSchema()"
   ]
  },
  {
   "cell_type": "markdown",
   "metadata": {},
   "source": [
    "Verifying if the data is loaded properly"
   ]
  },
  {
   "cell_type": "code",
   "execution_count": 7,
   "metadata": {},
   "outputs": [
    {
     "data": {
      "text/html": [
       "<div>\n",
       "<style>\n",
       "    .dataframe thead tr:only-child th {\n",
       "        text-align: right;\n",
       "    }\n",
       "\n",
       "    .dataframe thead th {\n",
       "        text-align: left;\n",
       "    }\n",
       "\n",
       "    .dataframe tbody tr th {\n",
       "        vertical-align: top;\n",
       "    }\n",
       "</style>\n",
       "<table border=\"1\" class=\"dataframe\">\n",
       "  <thead>\n",
       "    <tr style=\"text-align: right;\">\n",
       "      <th></th>\n",
       "      <th>msno</th>\n",
       "      <th>city</th>\n",
       "      <th>bd</th>\n",
       "      <th>gender</th>\n",
       "      <th>registered_via</th>\n",
       "      <th>registration_init_time</th>\n",
       "      <th>Column1</th>\n",
       "      <th>Is_Churn</th>\n",
       "      <th>payment_method_id</th>\n",
       "      <th>payment_plan_days</th>\n",
       "      <th>...</th>\n",
       "      <th>Time on board</th>\n",
       "      <th>is_cancel</th>\n",
       "      <th>num_25</th>\n",
       "      <th>num_50</th>\n",
       "      <th>num_75</th>\n",
       "      <th>num_985</th>\n",
       "      <th>num_100</th>\n",
       "      <th>num_unq</th>\n",
       "      <th>total_secs</th>\n",
       "      <th>Loyalty</th>\n",
       "    </tr>\n",
       "  </thead>\n",
       "  <tbody>\n",
       "    <tr>\n",
       "      <th>0</th>\n",
       "      <td>Uf4DL7z+DPK8Pnb82pao8tC2PfSTuwIvlVDDqUru8SA=</td>\n",
       "      <td>5</td>\n",
       "      <td>32</td>\n",
       "      <td>female</td>\n",
       "      <td>3</td>\n",
       "      <td>20141221</td>\n",
       "      <td>12/21/2014</td>\n",
       "      <td>1</td>\n",
       "      <td>38</td>\n",
       "      <td>90</td>\n",
       "      <td>...</td>\n",
       "      <td>920</td>\n",
       "      <td>0</td>\n",
       "      <td>8</td>\n",
       "      <td>4</td>\n",
       "      <td>1</td>\n",
       "      <td>4</td>\n",
       "      <td>36</td>\n",
       "      <td>36</td>\n",
       "      <td>10430.627</td>\n",
       "      <td>0</td>\n",
       "    </tr>\n",
       "    <tr>\n",
       "      <th>1</th>\n",
       "      <td>7KuGYecfAiQCvs2ktZg4aaFvcudRNevM2LqsHGVashU=</td>\n",
       "      <td>5</td>\n",
       "      <td>32</td>\n",
       "      <td>female</td>\n",
       "      <td>3</td>\n",
       "      <td>20131207</td>\n",
       "      <td>12/7/2013</td>\n",
       "      <td>0</td>\n",
       "      <td>40</td>\n",
       "      <td>30</td>\n",
       "      <td>...</td>\n",
       "      <td>1226</td>\n",
       "      <td>0</td>\n",
       "      <td>7</td>\n",
       "      <td>1</td>\n",
       "      <td>0</td>\n",
       "      <td>1</td>\n",
       "      <td>21</td>\n",
       "      <td>29</td>\n",
       "      <td>5619.767</td>\n",
       "      <td>5</td>\n",
       "    </tr>\n",
       "    <tr>\n",
       "      <th>2</th>\n",
       "      <td>CqnzYX4UnocVkbygvMXzr6mdRamPSphCOfx/xl7ucPo=</td>\n",
       "      <td>5</td>\n",
       "      <td>32</td>\n",
       "      <td>female</td>\n",
       "      <td>3</td>\n",
       "      <td>20130428</td>\n",
       "      <td>4/28/2013</td>\n",
       "      <td>0</td>\n",
       "      <td>36</td>\n",
       "      <td>30</td>\n",
       "      <td>...</td>\n",
       "      <td>1416</td>\n",
       "      <td>1</td>\n",
       "      <td>6</td>\n",
       "      <td>1</td>\n",
       "      <td>0</td>\n",
       "      <td>0</td>\n",
       "      <td>182</td>\n",
       "      <td>36</td>\n",
       "      <td>39684.049</td>\n",
       "      <td>5</td>\n",
       "    </tr>\n",
       "    <tr>\n",
       "      <th>3</th>\n",
       "      <td>qqM5POOe8//uuBUoANMczJibwta0YnUhvtPDVGTwjng=</td>\n",
       "      <td>5</td>\n",
       "      <td>32</td>\n",
       "      <td>female</td>\n",
       "      <td>3</td>\n",
       "      <td>20150920</td>\n",
       "      <td>9/20/2015</td>\n",
       "      <td>0</td>\n",
       "      <td>36</td>\n",
       "      <td>30</td>\n",
       "      <td>...</td>\n",
       "      <td>579</td>\n",
       "      <td>0</td>\n",
       "      <td>2</td>\n",
       "      <td>1</td>\n",
       "      <td>2</td>\n",
       "      <td>1</td>\n",
       "      <td>22</td>\n",
       "      <td>26</td>\n",
       "      <td>6026.237</td>\n",
       "      <td>4</td>\n",
       "    </tr>\n",
       "    <tr>\n",
       "      <th>4</th>\n",
       "      <td>EpbEiNi939eNb5EK6p8bE7c3heLnAHGK/qT9kgvxE+0=</td>\n",
       "      <td>5</td>\n",
       "      <td>32</td>\n",
       "      <td>female</td>\n",
       "      <td>3</td>\n",
       "      <td>20121016</td>\n",
       "      <td>10/16/2012</td>\n",
       "      <td>0</td>\n",
       "      <td>33</td>\n",
       "      <td>30</td>\n",
       "      <td>...</td>\n",
       "      <td>1632</td>\n",
       "      <td>0</td>\n",
       "      <td>#N/A</td>\n",
       "      <td>#N/A</td>\n",
       "      <td>#N/A</td>\n",
       "      <td>#N/A</td>\n",
       "      <td>#N/A</td>\n",
       "      <td>#N/A</td>\n",
       "      <td>#N/A</td>\n",
       "      <td>5</td>\n",
       "    </tr>\n",
       "  </tbody>\n",
       "</table>\n",
       "<p>5 rows × 27 columns</p>\n",
       "</div>"
      ],
      "text/plain": [
       "                                           msno  city  bd  gender  \\\n",
       "0  Uf4DL7z+DPK8Pnb82pao8tC2PfSTuwIvlVDDqUru8SA=     5  32  female   \n",
       "1  7KuGYecfAiQCvs2ktZg4aaFvcudRNevM2LqsHGVashU=     5  32  female   \n",
       "2  CqnzYX4UnocVkbygvMXzr6mdRamPSphCOfx/xl7ucPo=     5  32  female   \n",
       "3  qqM5POOe8//uuBUoANMczJibwta0YnUhvtPDVGTwjng=     5  32  female   \n",
       "4  EpbEiNi939eNb5EK6p8bE7c3heLnAHGK/qT9kgvxE+0=     5  32  female   \n",
       "\n",
       "   registered_via  registration_init_time     Column1  Is_Churn  \\\n",
       "0               3                20141221  12/21/2014         1   \n",
       "1               3                20131207   12/7/2013         0   \n",
       "2               3                20130428   4/28/2013         0   \n",
       "3               3                20150920   9/20/2015         0   \n",
       "4               3                20121016  10/16/2012         0   \n",
       "\n",
       "   payment_method_id  payment_plan_days   ...    Time on board  is_cancel  \\\n",
       "0                 38                 90   ...              920          0   \n",
       "1                 40                 30   ...             1226          0   \n",
       "2                 36                 30   ...             1416          1   \n",
       "3                 36                 30   ...              579          0   \n",
       "4                 33                 30   ...             1632          0   \n",
       "\n",
       "   num_25  num_50 num_75  num_985 num_100  num_unq  total_secs Loyalty  \n",
       "0       8       4      1        4      36       36   10430.627       0  \n",
       "1       7       1      0        1      21       29    5619.767       5  \n",
       "2       6       1      0        0     182       36   39684.049       5  \n",
       "3       2       1      2        1      22       26    6026.237       4  \n",
       "4    #N/A    #N/A   #N/A     #N/A    #N/A     #N/A        #N/A       5  \n",
       "\n",
       "[5 rows x 27 columns]"
      ]
     },
     "execution_count": 7,
     "metadata": {},
     "output_type": "execute_result"
    }
   ],
   "source": [
    "churn_data.limit(5).toPandas()"
   ]
  },
  {
   "cell_type": "code",
   "execution_count": 8,
   "metadata": {},
   "outputs": [
    {
     "data": {
      "text/html": [
       "<div>\n",
       "<style>\n",
       "    .dataframe thead tr:only-child th {\n",
       "        text-align: right;\n",
       "    }\n",
       "\n",
       "    .dataframe thead th {\n",
       "        text-align: left;\n",
       "    }\n",
       "\n",
       "    .dataframe tbody tr th {\n",
       "        vertical-align: top;\n",
       "    }\n",
       "</style>\n",
       "<table border=\"1\" class=\"dataframe\">\n",
       "  <thead>\n",
       "    <tr style=\"text-align: right;\">\n",
       "      <th></th>\n",
       "      <th>0</th>\n",
       "      <th>1</th>\n",
       "      <th>2</th>\n",
       "      <th>3</th>\n",
       "      <th>4</th>\n",
       "    </tr>\n",
       "  </thead>\n",
       "  <tbody>\n",
       "    <tr>\n",
       "      <th>msno</th>\n",
       "      <td>Uf4DL7z+DPK8Pnb82pao8tC2PfSTuwIvlVDDqUru8SA=</td>\n",
       "      <td>7KuGYecfAiQCvs2ktZg4aaFvcudRNevM2LqsHGVashU=</td>\n",
       "      <td>CqnzYX4UnocVkbygvMXzr6mdRamPSphCOfx/xl7ucPo=</td>\n",
       "      <td>qqM5POOe8//uuBUoANMczJibwta0YnUhvtPDVGTwjng=</td>\n",
       "      <td>EpbEiNi939eNb5EK6p8bE7c3heLnAHGK/qT9kgvxE+0=</td>\n",
       "    </tr>\n",
       "    <tr>\n",
       "      <th>city</th>\n",
       "      <td>5</td>\n",
       "      <td>5</td>\n",
       "      <td>5</td>\n",
       "      <td>5</td>\n",
       "      <td>5</td>\n",
       "    </tr>\n",
       "    <tr>\n",
       "      <th>bd</th>\n",
       "      <td>32</td>\n",
       "      <td>32</td>\n",
       "      <td>32</td>\n",
       "      <td>32</td>\n",
       "      <td>32</td>\n",
       "    </tr>\n",
       "    <tr>\n",
       "      <th>gender</th>\n",
       "      <td>female</td>\n",
       "      <td>female</td>\n",
       "      <td>female</td>\n",
       "      <td>female</td>\n",
       "      <td>female</td>\n",
       "    </tr>\n",
       "    <tr>\n",
       "      <th>registered_via</th>\n",
       "      <td>3</td>\n",
       "      <td>3</td>\n",
       "      <td>3</td>\n",
       "      <td>3</td>\n",
       "      <td>3</td>\n",
       "    </tr>\n",
       "    <tr>\n",
       "      <th>registration_init_time</th>\n",
       "      <td>20141221</td>\n",
       "      <td>20131207</td>\n",
       "      <td>20130428</td>\n",
       "      <td>20150920</td>\n",
       "      <td>20121016</td>\n",
       "    </tr>\n",
       "    <tr>\n",
       "      <th>Column1</th>\n",
       "      <td>12/21/2014</td>\n",
       "      <td>12/7/2013</td>\n",
       "      <td>4/28/2013</td>\n",
       "      <td>9/20/2015</td>\n",
       "      <td>10/16/2012</td>\n",
       "    </tr>\n",
       "    <tr>\n",
       "      <th>Is_Churn</th>\n",
       "      <td>1</td>\n",
       "      <td>0</td>\n",
       "      <td>0</td>\n",
       "      <td>0</td>\n",
       "      <td>0</td>\n",
       "    </tr>\n",
       "    <tr>\n",
       "      <th>payment_method_id</th>\n",
       "      <td>38</td>\n",
       "      <td>40</td>\n",
       "      <td>36</td>\n",
       "      <td>36</td>\n",
       "      <td>33</td>\n",
       "    </tr>\n",
       "    <tr>\n",
       "      <th>payment_plan_days</th>\n",
       "      <td>90</td>\n",
       "      <td>30</td>\n",
       "      <td>30</td>\n",
       "      <td>30</td>\n",
       "      <td>30</td>\n",
       "    </tr>\n",
       "    <tr>\n",
       "      <th>plan_list_price</th>\n",
       "      <td>447</td>\n",
       "      <td>149</td>\n",
       "      <td>180</td>\n",
       "      <td>180</td>\n",
       "      <td>149</td>\n",
       "    </tr>\n",
       "    <tr>\n",
       "      <th>actual_amount_paid</th>\n",
       "      <td>447</td>\n",
       "      <td>149</td>\n",
       "      <td>180</td>\n",
       "      <td>180</td>\n",
       "      <td>149</td>\n",
       "    </tr>\n",
       "    <tr>\n",
       "      <th>is_auto_renew</th>\n",
       "      <td>0</td>\n",
       "      <td>1</td>\n",
       "      <td>1</td>\n",
       "      <td>0</td>\n",
       "      <td>1</td>\n",
       "    </tr>\n",
       "    <tr>\n",
       "      <th>transaction_date</th>\n",
       "      <td>20170330</td>\n",
       "      <td>20170316</td>\n",
       "      <td>20170315</td>\n",
       "      <td>20170322</td>\n",
       "      <td>20170228</td>\n",
       "    </tr>\n",
       "    <tr>\n",
       "      <th>Column2</th>\n",
       "      <td>3/30/2017</td>\n",
       "      <td>3/16/2017</td>\n",
       "      <td>3/15/2017</td>\n",
       "      <td>3/22/2017</td>\n",
       "      <td>2/28/2017</td>\n",
       "    </tr>\n",
       "    <tr>\n",
       "      <th>membership_expire_date</th>\n",
       "      <td>20170628</td>\n",
       "      <td>20170416</td>\n",
       "      <td>20170314</td>\n",
       "      <td>20170421</td>\n",
       "      <td>20170405</td>\n",
       "    </tr>\n",
       "    <tr>\n",
       "      <th>Column3</th>\n",
       "      <td>6/28/2017</td>\n",
       "      <td>4/16/2017</td>\n",
       "      <td>3/14/2017</td>\n",
       "      <td>4/21/2017</td>\n",
       "      <td>4/5/2017</td>\n",
       "    </tr>\n",
       "    <tr>\n",
       "      <th>Time on board</th>\n",
       "      <td>920</td>\n",
       "      <td>1226</td>\n",
       "      <td>1416</td>\n",
       "      <td>579</td>\n",
       "      <td>1632</td>\n",
       "    </tr>\n",
       "    <tr>\n",
       "      <th>is_cancel</th>\n",
       "      <td>0</td>\n",
       "      <td>0</td>\n",
       "      <td>1</td>\n",
       "      <td>0</td>\n",
       "      <td>0</td>\n",
       "    </tr>\n",
       "    <tr>\n",
       "      <th>num_25</th>\n",
       "      <td>8</td>\n",
       "      <td>7</td>\n",
       "      <td>6</td>\n",
       "      <td>2</td>\n",
       "      <td>#N/A</td>\n",
       "    </tr>\n",
       "    <tr>\n",
       "      <th>num_50</th>\n",
       "      <td>4</td>\n",
       "      <td>1</td>\n",
       "      <td>1</td>\n",
       "      <td>1</td>\n",
       "      <td>#N/A</td>\n",
       "    </tr>\n",
       "    <tr>\n",
       "      <th>num_75</th>\n",
       "      <td>1</td>\n",
       "      <td>0</td>\n",
       "      <td>0</td>\n",
       "      <td>2</td>\n",
       "      <td>#N/A</td>\n",
       "    </tr>\n",
       "    <tr>\n",
       "      <th>num_985</th>\n",
       "      <td>4</td>\n",
       "      <td>1</td>\n",
       "      <td>0</td>\n",
       "      <td>1</td>\n",
       "      <td>#N/A</td>\n",
       "    </tr>\n",
       "    <tr>\n",
       "      <th>num_100</th>\n",
       "      <td>36</td>\n",
       "      <td>21</td>\n",
       "      <td>182</td>\n",
       "      <td>22</td>\n",
       "      <td>#N/A</td>\n",
       "    </tr>\n",
       "    <tr>\n",
       "      <th>num_unq</th>\n",
       "      <td>36</td>\n",
       "      <td>29</td>\n",
       "      <td>36</td>\n",
       "      <td>26</td>\n",
       "      <td>#N/A</td>\n",
       "    </tr>\n",
       "    <tr>\n",
       "      <th>total_secs</th>\n",
       "      <td>10430.627</td>\n",
       "      <td>5619.767</td>\n",
       "      <td>39684.049</td>\n",
       "      <td>6026.237</td>\n",
       "      <td>#N/A</td>\n",
       "    </tr>\n",
       "    <tr>\n",
       "      <th>Loyalty</th>\n",
       "      <td>0</td>\n",
       "      <td>5</td>\n",
       "      <td>5</td>\n",
       "      <td>4</td>\n",
       "      <td>5</td>\n",
       "    </tr>\n",
       "  </tbody>\n",
       "</table>\n",
       "</div>"
      ],
      "text/plain": [
       "                                                                   0  \\\n",
       "msno                    Uf4DL7z+DPK8Pnb82pao8tC2PfSTuwIvlVDDqUru8SA=   \n",
       "city                                                               5   \n",
       "bd                                                                32   \n",
       "gender                                                        female   \n",
       "registered_via                                                     3   \n",
       "registration_init_time                                      20141221   \n",
       "Column1                                                   12/21/2014   \n",
       "Is_Churn                                                           1   \n",
       "payment_method_id                                                 38   \n",
       "payment_plan_days                                                 90   \n",
       "plan_list_price                                                  447   \n",
       "actual_amount_paid                                               447   \n",
       "is_auto_renew                                                      0   \n",
       "transaction_date                                            20170330   \n",
       "Column2                                                    3/30/2017   \n",
       "membership_expire_date                                      20170628   \n",
       "Column3                                                    6/28/2017   \n",
       "Time on board                                                    920   \n",
       "is_cancel                                                          0   \n",
       "num_25                                                             8   \n",
       "num_50                                                             4   \n",
       "num_75                                                             1   \n",
       "num_985                                                            4   \n",
       "num_100                                                           36   \n",
       "num_unq                                                           36   \n",
       "total_secs                                                 10430.627   \n",
       "Loyalty                                                            0   \n",
       "\n",
       "                                                                   1  \\\n",
       "msno                    7KuGYecfAiQCvs2ktZg4aaFvcudRNevM2LqsHGVashU=   \n",
       "city                                                               5   \n",
       "bd                                                                32   \n",
       "gender                                                        female   \n",
       "registered_via                                                     3   \n",
       "registration_init_time                                      20131207   \n",
       "Column1                                                    12/7/2013   \n",
       "Is_Churn                                                           0   \n",
       "payment_method_id                                                 40   \n",
       "payment_plan_days                                                 30   \n",
       "plan_list_price                                                  149   \n",
       "actual_amount_paid                                               149   \n",
       "is_auto_renew                                                      1   \n",
       "transaction_date                                            20170316   \n",
       "Column2                                                    3/16/2017   \n",
       "membership_expire_date                                      20170416   \n",
       "Column3                                                    4/16/2017   \n",
       "Time on board                                                   1226   \n",
       "is_cancel                                                          0   \n",
       "num_25                                                             7   \n",
       "num_50                                                             1   \n",
       "num_75                                                             0   \n",
       "num_985                                                            1   \n",
       "num_100                                                           21   \n",
       "num_unq                                                           29   \n",
       "total_secs                                                  5619.767   \n",
       "Loyalty                                                            5   \n",
       "\n",
       "                                                                   2  \\\n",
       "msno                    CqnzYX4UnocVkbygvMXzr6mdRamPSphCOfx/xl7ucPo=   \n",
       "city                                                               5   \n",
       "bd                                                                32   \n",
       "gender                                                        female   \n",
       "registered_via                                                     3   \n",
       "registration_init_time                                      20130428   \n",
       "Column1                                                    4/28/2013   \n",
       "Is_Churn                                                           0   \n",
       "payment_method_id                                                 36   \n",
       "payment_plan_days                                                 30   \n",
       "plan_list_price                                                  180   \n",
       "actual_amount_paid                                               180   \n",
       "is_auto_renew                                                      1   \n",
       "transaction_date                                            20170315   \n",
       "Column2                                                    3/15/2017   \n",
       "membership_expire_date                                      20170314   \n",
       "Column3                                                    3/14/2017   \n",
       "Time on board                                                   1416   \n",
       "is_cancel                                                          1   \n",
       "num_25                                                             6   \n",
       "num_50                                                             1   \n",
       "num_75                                                             0   \n",
       "num_985                                                            0   \n",
       "num_100                                                          182   \n",
       "num_unq                                                           36   \n",
       "total_secs                                                 39684.049   \n",
       "Loyalty                                                            5   \n",
       "\n",
       "                                                                   3  \\\n",
       "msno                    qqM5POOe8//uuBUoANMczJibwta0YnUhvtPDVGTwjng=   \n",
       "city                                                               5   \n",
       "bd                                                                32   \n",
       "gender                                                        female   \n",
       "registered_via                                                     3   \n",
       "registration_init_time                                      20150920   \n",
       "Column1                                                    9/20/2015   \n",
       "Is_Churn                                                           0   \n",
       "payment_method_id                                                 36   \n",
       "payment_plan_days                                                 30   \n",
       "plan_list_price                                                  180   \n",
       "actual_amount_paid                                               180   \n",
       "is_auto_renew                                                      0   \n",
       "transaction_date                                            20170322   \n",
       "Column2                                                    3/22/2017   \n",
       "membership_expire_date                                      20170421   \n",
       "Column3                                                    4/21/2017   \n",
       "Time on board                                                    579   \n",
       "is_cancel                                                          0   \n",
       "num_25                                                             2   \n",
       "num_50                                                             1   \n",
       "num_75                                                             2   \n",
       "num_985                                                            1   \n",
       "num_100                                                           22   \n",
       "num_unq                                                           26   \n",
       "total_secs                                                  6026.237   \n",
       "Loyalty                                                            4   \n",
       "\n",
       "                                                                   4  \n",
       "msno                    EpbEiNi939eNb5EK6p8bE7c3heLnAHGK/qT9kgvxE+0=  \n",
       "city                                                               5  \n",
       "bd                                                                32  \n",
       "gender                                                        female  \n",
       "registered_via                                                     3  \n",
       "registration_init_time                                      20121016  \n",
       "Column1                                                   10/16/2012  \n",
       "Is_Churn                                                           0  \n",
       "payment_method_id                                                 33  \n",
       "payment_plan_days                                                 30  \n",
       "plan_list_price                                                  149  \n",
       "actual_amount_paid                                               149  \n",
       "is_auto_renew                                                      1  \n",
       "transaction_date                                            20170228  \n",
       "Column2                                                    2/28/2017  \n",
       "membership_expire_date                                      20170405  \n",
       "Column3                                                     4/5/2017  \n",
       "Time on board                                                   1632  \n",
       "is_cancel                                                          0  \n",
       "num_25                                                          #N/A  \n",
       "num_50                                                          #N/A  \n",
       "num_75                                                          #N/A  \n",
       "num_985                                                         #N/A  \n",
       "num_100                                                         #N/A  \n",
       "num_unq                                                         #N/A  \n",
       "total_secs                                                      #N/A  \n",
       "Loyalty                                                            5  "
      ]
     },
     "execution_count": 8,
     "metadata": {},
     "output_type": "execute_result"
    }
   ],
   "source": [
    "pd.DataFrame(churn_data.take(5), columns=churn_data.columns).transpose()"
   ]
  },
  {
   "cell_type": "markdown",
   "metadata": {},
   "source": [
    "Displaying summary statistics for numeric variables including count, mean, stddev, min, and max."
   ]
  },
  {
   "cell_type": "code",
   "execution_count": 9,
   "metadata": {},
   "outputs": [
    {
     "data": {
      "text/html": [
       "<div>\n",
       "<style>\n",
       "    .dataframe thead tr:only-child th {\n",
       "        text-align: right;\n",
       "    }\n",
       "\n",
       "    .dataframe thead th {\n",
       "        text-align: left;\n",
       "    }\n",
       "\n",
       "    .dataframe tbody tr th {\n",
       "        vertical-align: top;\n",
       "    }\n",
       "</style>\n",
       "<table border=\"1\" class=\"dataframe\">\n",
       "  <thead>\n",
       "    <tr style=\"text-align: right;\">\n",
       "      <th></th>\n",
       "      <th>0</th>\n",
       "      <th>1</th>\n",
       "      <th>2</th>\n",
       "      <th>3</th>\n",
       "      <th>4</th>\n",
       "    </tr>\n",
       "  </thead>\n",
       "  <tbody>\n",
       "    <tr>\n",
       "      <th>summary</th>\n",
       "      <td>count</td>\n",
       "      <td>mean</td>\n",
       "      <td>stddev</td>\n",
       "      <td>min</td>\n",
       "      <td>max</td>\n",
       "    </tr>\n",
       "    <tr>\n",
       "      <th>city</th>\n",
       "      <td>23187</td>\n",
       "      <td>5.675335317203605</td>\n",
       "      <td>2.057295458181949</td>\n",
       "      <td>3</td>\n",
       "      <td>11</td>\n",
       "    </tr>\n",
       "    <tr>\n",
       "      <th>bd</th>\n",
       "      <td>23187</td>\n",
       "      <td>26.921507741406824</td>\n",
       "      <td>7.619133868160284</td>\n",
       "      <td>13</td>\n",
       "      <td>106</td>\n",
       "    </tr>\n",
       "    <tr>\n",
       "      <th>registered_via</th>\n",
       "      <td>23187</td>\n",
       "      <td>3.0</td>\n",
       "      <td>0.0</td>\n",
       "      <td>3</td>\n",
       "      <td>3</td>\n",
       "    </tr>\n",
       "    <tr>\n",
       "      <th>registration_init_time</th>\n",
       "      <td>23187</td>\n",
       "      <td>2.0137633484581877E7</td>\n",
       "      <td>13417.056102839004</td>\n",
       "      <td>20111209</td>\n",
       "      <td>20170324</td>\n",
       "    </tr>\n",
       "    <tr>\n",
       "      <th>Is_Churn</th>\n",
       "      <td>23187</td>\n",
       "      <td>0.11816966403588218</td>\n",
       "      <td>0.3228158745633186</td>\n",
       "      <td>0</td>\n",
       "      <td>1</td>\n",
       "    </tr>\n",
       "    <tr>\n",
       "      <th>payment_method_id</th>\n",
       "      <td>23187</td>\n",
       "      <td>36.53465303834045</td>\n",
       "      <td>4.193000344427315</td>\n",
       "      <td>6</td>\n",
       "      <td>40</td>\n",
       "    </tr>\n",
       "    <tr>\n",
       "      <th>payment_plan_days</th>\n",
       "      <td>23187</td>\n",
       "      <td>39.357312287057404</td>\n",
       "      <td>49.97522057752058</td>\n",
       "      <td>1</td>\n",
       "      <td>450</td>\n",
       "    </tr>\n",
       "    <tr>\n",
       "      <th>plan_list_price</th>\n",
       "      <td>23187</td>\n",
       "      <td>191.44650019407428</td>\n",
       "      <td>202.3471265674394</td>\n",
       "      <td>0</td>\n",
       "      <td>1788</td>\n",
       "    </tr>\n",
       "    <tr>\n",
       "      <th>actual_amount_paid</th>\n",
       "      <td>23187</td>\n",
       "      <td>190.20222538491396</td>\n",
       "      <td>202.99028785611426</td>\n",
       "      <td>0</td>\n",
       "      <td>1788</td>\n",
       "    </tr>\n",
       "    <tr>\n",
       "      <th>is_auto_renew</th>\n",
       "      <td>23187</td>\n",
       "      <td>0.7322637684909648</td>\n",
       "      <td>0.44278888596332755</td>\n",
       "      <td>0</td>\n",
       "      <td>1</td>\n",
       "    </tr>\n",
       "    <tr>\n",
       "      <th>transaction_date</th>\n",
       "      <td>23187</td>\n",
       "      <td>2.017027288993833E7</td>\n",
       "      <td>579.3720693134926</td>\n",
       "      <td>20150904</td>\n",
       "      <td>20170331</td>\n",
       "    </tr>\n",
       "    <tr>\n",
       "      <th>membership_expire_date</th>\n",
       "      <td>23187</td>\n",
       "      <td>2.0170584370897487E7</td>\n",
       "      <td>1214.7310146845393</td>\n",
       "      <td>20170227</td>\n",
       "      <td>20180623</td>\n",
       "    </tr>\n",
       "    <tr>\n",
       "      <th>Time on board</th>\n",
       "      <td>23187</td>\n",
       "      <td>1140.8846767585285</td>\n",
       "      <td>492.80686650873145</td>\n",
       "      <td>6</td>\n",
       "      <td>2329</td>\n",
       "    </tr>\n",
       "    <tr>\n",
       "      <th>is_cancel</th>\n",
       "      <td>23187</td>\n",
       "      <td>0.02811920472678656</td>\n",
       "      <td>0.16531694927265478</td>\n",
       "      <td>0</td>\n",
       "      <td>1</td>\n",
       "    </tr>\n",
       "    <tr>\n",
       "      <th>Loyalty</th>\n",
       "      <td>23187</td>\n",
       "      <td>4.519730883684823</td>\n",
       "      <td>1.1059955783370259</td>\n",
       "      <td>0</td>\n",
       "      <td>5</td>\n",
       "    </tr>\n",
       "  </tbody>\n",
       "</table>\n",
       "</div>"
      ],
      "text/plain": [
       "                            0                     1                    2  \\\n",
       "summary                 count                  mean               stddev   \n",
       "city                    23187     5.675335317203605    2.057295458181949   \n",
       "bd                      23187    26.921507741406824    7.619133868160284   \n",
       "registered_via          23187                   3.0                  0.0   \n",
       "registration_init_time  23187  2.0137633484581877E7   13417.056102839004   \n",
       "Is_Churn                23187   0.11816966403588218   0.3228158745633186   \n",
       "payment_method_id       23187     36.53465303834045    4.193000344427315   \n",
       "payment_plan_days       23187    39.357312287057404    49.97522057752058   \n",
       "plan_list_price         23187    191.44650019407428    202.3471265674394   \n",
       "actual_amount_paid      23187    190.20222538491396   202.99028785611426   \n",
       "is_auto_renew           23187    0.7322637684909648  0.44278888596332755   \n",
       "transaction_date        23187   2.017027288993833E7    579.3720693134926   \n",
       "membership_expire_date  23187  2.0170584370897487E7   1214.7310146845393   \n",
       "Time on board           23187    1140.8846767585285   492.80686650873145   \n",
       "is_cancel               23187   0.02811920472678656  0.16531694927265478   \n",
       "Loyalty                 23187     4.519730883684823   1.1059955783370259   \n",
       "\n",
       "                               3         4  \n",
       "summary                      min       max  \n",
       "city                           3        11  \n",
       "bd                            13       106  \n",
       "registered_via                 3         3  \n",
       "registration_init_time  20111209  20170324  \n",
       "Is_Churn                       0         1  \n",
       "payment_method_id              6        40  \n",
       "payment_plan_days              1       450  \n",
       "plan_list_price                0      1788  \n",
       "actual_amount_paid             0      1788  \n",
       "is_auto_renew                  0         1  \n",
       "transaction_date        20150904  20170331  \n",
       "membership_expire_date  20170227  20180623  \n",
       "Time on board                  6      2329  \n",
       "is_cancel                      0         1  \n",
       "Loyalty                        0         5  "
      ]
     },
     "execution_count": 9,
     "metadata": {},
     "output_type": "execute_result"
    }
   ],
   "source": [
    "numeric_data = [t[0] for t in churn_data.dtypes if t[1] == 'int']\n",
    "churn_data.select(numeric_data).describe().toPandas().transpose()"
   ]
  },
  {
   "cell_type": "markdown",
   "metadata": {},
   "source": [
    "Changing the blank values with NA( for city, registered_via and gender)"
   ]
  },
  {
   "cell_type": "code",
   "execution_count": 10,
   "metadata": {
    "collapsed": true
   },
   "outputs": [],
   "source": [
    "churn_data = churn_data.fillna({'gender': 'NA', 'city': 'NA', 'registered_via': 'NA'}) # fill in 'N/A' entries for certain cols"
   ]
  },
  {
   "cell_type": "markdown",
   "metadata": {},
   "source": [
    "Removing the date columns from the dataframe as random forests only works with continuous variables. Printing the schema in a tree format."
   ]
  },
  {
   "cell_type": "code",
   "execution_count": 11,
   "metadata": {},
   "outputs": [
    {
     "name": "stdout",
     "output_type": "stream",
     "text": [
      "root\n",
      " |-- city: integer (nullable = true)\n",
      " |-- bd: integer (nullable = true)\n",
      " |-- payment_method_id: integer (nullable = true)\n",
      " |-- payment_plan_days: integer (nullable = true)\n",
      " |-- registered_via: integer (nullable = true)\n",
      " |-- plan_list_price: integer (nullable = true)\n",
      " |-- actual_amount_paid: integer (nullable = true)\n",
      " |-- Time on board: integer (nullable = true)\n",
      " |-- gender: string (nullable = false)\n",
      " |-- Is_Churn: integer (nullable = true)\n",
      " |-- is_auto_renew: integer (nullable = true)\n",
      " |-- is_cancel: integer (nullable = true)\n",
      "\n"
     ]
    }
   ],
   "source": [
    "churn_data = churn_data.select('city','bd', 'payment_method_id', 'payment_plan_days', 'registered_via', 'plan_list_price','actual_amount_paid', 'Time on board',\n",
    "                              'gender', 'Is_Churn', 'is_auto_renew', 'is_cancel')\n",
    "cols = churn_data.columns\n",
    "churn_data.printSchema()"
   ]
  },
  {
   "cell_type": "markdown",
   "metadata": {},
   "source": [
    "Convert categorical variables into column with indices."
   ]
  },
  {
   "cell_type": "code",
   "execution_count": 12,
   "metadata": {},
   "outputs": [
    {
     "name": "stdout",
     "output_type": "stream",
     "text": [
      "+------+---------+\n",
      "|gender|genderCat|\n",
      "+------+---------+\n",
      "|female|      1.0|\n",
      "|female|      1.0|\n",
      "|female|      1.0|\n",
      "|female|      1.0|\n",
      "|female|      1.0|\n",
      "|female|      1.0|\n",
      "|female|      1.0|\n",
      "|female|      1.0|\n",
      "|female|      1.0|\n",
      "|female|      1.0|\n",
      "|female|      1.0|\n",
      "|female|      1.0|\n",
      "|female|      1.0|\n",
      "|female|      1.0|\n",
      "|female|      1.0|\n",
      "|female|      1.0|\n",
      "|female|      1.0|\n",
      "|female|      1.0|\n",
      "|female|      1.0|\n",
      "|female|      1.0|\n",
      "+------+---------+\n",
      "only showing top 20 rows\n",
      "\n",
      "root\n",
      " |-- city: integer (nullable = true)\n",
      " |-- bd: integer (nullable = true)\n",
      " |-- payment_method_id: integer (nullable = true)\n",
      " |-- payment_plan_days: integer (nullable = true)\n",
      " |-- registered_via: integer (nullable = true)\n",
      " |-- plan_list_price: integer (nullable = true)\n",
      " |-- actual_amount_paid: integer (nullable = true)\n",
      " |-- Time on board: integer (nullable = true)\n",
      " |-- gender: string (nullable = false)\n",
      " |-- Is_Churn: integer (nullable = true)\n",
      " |-- is_auto_renew: integer (nullable = true)\n",
      " |-- is_cancel: integer (nullable = true)\n",
      " |-- genderCat: double (nullable = false)\n",
      "\n"
     ]
    }
   ],
   "source": [
    "# Indexing categorical column 'gender' using StringIndexer\n",
    "genderIndexer = StringIndexer(inputCol = 'gender', outputCol = 'genderCat').fit(churn_data)\n",
    "\n",
    "genderIndexer.transform(churn_data).select(\"gender\", \"genderCat\").show()\n",
    "\n",
    "churn_data = genderIndexer.transform(churn_data)\n",
    "\n",
    "churn_data.printSchema()"
   ]
  },
  {
   "cell_type": "markdown",
   "metadata": {},
   "source": [
    "Now we need to select input variables as features and target variable as label to apply predictive models on it."
   ]
  },
  {
   "cell_type": "code",
   "execution_count": 13,
   "metadata": {
    "collapsed": true
   },
   "outputs": [],
   "source": [
    "tmp=[]\n",
    "churn_data = churn_data.drop('gender')\n",
    "Cols_now = churn_data.columns\n",
    "Cols_now.remove('Is_Churn')\n",
    "vectorAssembler = VectorAssembler(inputCols=Cols_now, outputCol='features')\n",
    "labelIndexer = StringIndexer(inputCol='Is_Churn', outputCol='label') #Encoding the label to a column of label indices. \n",
    "tmp+=[vectorAssembler, labelIndexer]\n",
    "pipeline = Pipeline(stages=tmp)"
   ]
  },
  {
   "cell_type": "code",
   "execution_count": 14,
   "metadata": {},
   "outputs": [
    {
     "data": {
      "text/plain": [
       "DataFrame[city: int, bd: int, payment_method_id: int, payment_plan_days: int, registered_via: int, plan_list_price: int, actual_amount_paid: int, Time on board: int, Is_Churn: int, is_auto_renew: int, is_cancel: int, genderCat: double, features: vector, label: double]"
      ]
     },
     "execution_count": 14,
     "metadata": {},
     "output_type": "execute_result"
    }
   ],
   "source": [
    "df= pipeline.fit(churn_data).transform(churn_data)\n",
    "df.cache()"
   ]
  },
  {
   "cell_type": "markdown",
   "metadata": {},
   "source": [
    "Splitting the data into training and test sets into a 70/30 ratio"
   ]
  },
  {
   "cell_type": "code",
   "execution_count": 16,
   "metadata": {
    "collapsed": true
   },
   "outputs": [],
   "source": [
    "train, test = df.randomSplit([0.7, 0.3], seed = 0) # set seed to ensure same split for every model"
   ]
  },
  {
   "cell_type": "markdown",
   "metadata": {},
   "source": [
    "Printing the count of examples in train and test sets"
   ]
  },
  {
   "cell_type": "code",
   "execution_count": 17,
   "metadata": {},
   "outputs": [
    {
     "name": "stdout",
     "output_type": "stream",
     "text": [
      "We have 16293 training examples and 6894 test examples.\n"
     ]
    }
   ],
   "source": [
    "print (\"We have %d training examples and %d test examples.\" % (train.count(), test.count()))"
   ]
  },
  {
   "cell_type": "code",
   "execution_count": 18,
   "metadata": {},
   "outputs": [
    {
     "name": "stdout",
     "output_type": "stream",
     "text": [
      "root\n",
      " |-- city: integer (nullable = true)\n",
      " |-- bd: integer (nullable = true)\n",
      " |-- payment_method_id: integer (nullable = true)\n",
      " |-- payment_plan_days: integer (nullable = true)\n",
      " |-- registered_via: integer (nullable = true)\n",
      " |-- plan_list_price: integer (nullable = true)\n",
      " |-- actual_amount_paid: integer (nullable = true)\n",
      " |-- Time on board: integer (nullable = true)\n",
      " |-- Is_Churn: integer (nullable = true)\n",
      " |-- is_auto_renew: integer (nullable = true)\n",
      " |-- is_cancel: integer (nullable = true)\n",
      " |-- genderCat: double (nullable = false)\n",
      " |-- features: vector (nullable = true)\n",
      " |-- label: double (nullable = false)\n",
      "\n"
     ]
    }
   ],
   "source": [
    "train.printSchema()"
   ]
  },
  {
   "cell_type": "markdown",
   "metadata": {},
   "source": [
    "Specifying the options for the random forest model"
   ]
  },
  {
   "cell_type": "code",
   "execution_count": 20,
   "metadata": {
    "collapsed": true
   },
   "outputs": [],
   "source": [
    "rf = RandomForestClassifier(labelCol='label', featuresCol=\"features\", numTrees=100)"
   ]
  },
  {
   "cell_type": "markdown",
   "metadata": {},
   "source": [
    "Training the model on training set and predicting outcomes for test data"
   ]
  },
  {
   "cell_type": "code",
   "execution_count": 21,
   "metadata": {
    "collapsed": true
   },
   "outputs": [],
   "source": [
    "fit = rf.fit(train)\n",
    "transformed = fit.transform(test)"
   ]
  },
  {
   "cell_type": "markdown",
   "metadata": {},
   "source": [
    "Verifying the predictions"
   ]
  },
  {
   "cell_type": "code",
   "execution_count": 22,
   "metadata": {},
   "outputs": [
    {
     "name": "stdout",
     "output_type": "stream",
     "text": [
      "+----------+--------+--------------------+--------------------+--------------------+\n",
      "|prediction|Is_Churn|            Features|       rawPrediction|         probability|\n",
      "+----------+--------+--------------------+--------------------+--------------------+\n",
      "|       0.0|       0|[3.0,16.0,36.0,30...|[93.1555053696588...|[0.93155505369658...|\n",
      "|       0.0|       0|[3.0,17.0,28.0,30...|[91.3608640164808...|[0.91360864016480...|\n",
      "|       0.0|       0|[3.0,17.0,29.0,30...|[91.4291685478432...|[0.91429168547843...|\n",
      "|       0.0|       0|[3.0,17.0,29.0,30...|[94.5076758916432...|[0.94507675891643...|\n",
      "|       0.0|       0|[3.0,17.0,38.0,30...|[91.3827773389143...|[0.91382777338914...|\n",
      "|       0.0|       0|[3.0,18.0,29.0,30...|[92.1520734127744...|[0.92152073412774...|\n",
      "|       0.0|       0|[3.0,18.0,36.0,30...|[91.3331454438628...|[0.91333145443862...|\n",
      "|       0.0|       0|[3.0,18.0,36.0,30...|[94.3999289859191...|[0.94399928985919...|\n",
      "|       0.0|       0|[3.0,18.0,36.0,30...|[94.4634871762592...|[0.94463487176259...|\n",
      "|       0.0|       0|[3.0,18.0,36.0,30...|[94.4584183488685...|[0.94458418348868...|\n",
      "+----------+--------+--------------------+--------------------+--------------------+\n",
      "only showing top 10 rows\n",
      "\n"
     ]
    }
   ],
   "source": [
    "transformed.select(\"prediction\", \"Is_Churn\", \"Features\", 'rawPrediction','probability').show(10)"
   ]
  },
  {
   "cell_type": "markdown",
   "metadata": {},
   "source": [
    "Evaluating Area Under Curve (AUC) for model on test data"
   ]
  },
  {
   "cell_type": "code",
   "execution_count": 23,
   "metadata": {},
   "outputs": [
    {
     "name": "stdout",
     "output_type": "stream",
     "text": [
      "Test Area Under ROC: 0.8543257712504092\n"
     ]
    }
   ],
   "source": [
    "evaluator = BinaryClassificationEvaluator()\n",
    "print(\"Test Area Under ROC: \" + str(evaluator.evaluate(transformed, {evaluator.metricName: \"areaUnderROC\"})))"
   ]
  },
  {
   "cell_type": "markdown",
   "metadata": {},
   "source": [
    "Calculating test error"
   ]
  },
  {
   "cell_type": "code",
   "execution_count": 25,
   "metadata": {},
   "outputs": [
    {
     "name": "stdout",
     "output_type": "stream",
     "text": [
      "Test Error (@ 100 trees:) = 0.145674\n"
     ]
    }
   ],
   "source": [
    "accuracy = evaluator.evaluate(transformed)\n",
    "print(\"Test Error (@ 100 trees:) = %g\" % (1.0 - accuracy))"
   ]
  },
  {
   "cell_type": "markdown",
   "metadata": {},
   "source": [
    "Area Under PR for test data."
   ]
  },
  {
   "cell_type": "code",
   "execution_count": 26,
   "metadata": {},
   "outputs": [
    {
     "name": "stdout",
     "output_type": "stream",
     "text": [
      "Area under Precision/Recall (PR) curve: 72\n"
     ]
    }
   ],
   "source": [
    "metric2 = evaluator.evaluate(transformed,{evaluator.metricName: 'areaUnderPR'})\n",
    "print(\"Area under Precision/Recall (PR) curve: %.f\" % (metric2 * 100))"
   ]
  },
  {
   "cell_type": "markdown",
   "metadata": {},
   "source": [
    "## Visualizing the classifier results"
   ]
  },
  {
   "cell_type": "code",
   "execution_count": 27,
   "metadata": {},
   "outputs": [
    {
     "data": {
      "image/png": "[encoded data removed]",
      "text/plain": [
       "<matplotlib.figure.Figure at 0x29b92f73a20>"
      ]
     },
     "metadata": {},
     "output_type": "display_data"
    }
   ],
   "source": [
    "#Visualize the AUC score by drawing areaunderROC curve\n",
    "# code adapted from 'https://weiminwang.blog/2016/06/09/pyspark-tutorial-building-a-random-forest-binary-classifier\n",
    "#-on-unbalanced-dataset/' for plotting the AreaUnderROC curve\n",
    "import matplotlib as mplt\n",
    "\n",
    "fposrate = dict()\n",
    "tposrate = dict()\n",
    "roc_auc = dict()\n",
    "\n",
    "trainSummary = transformed.select(['probability','label'])\n",
    "\n",
    "## prepare score-label set\n",
    "results_collect = trainSummary.collect()\n",
    "results_list = [(float(i[0][0]), 1.0-float(i[1])) for i in results_collect]\n",
    "scoreAndLabels = sc.parallelize(results_list)\n",
    "\n",
    "y_test = [i[1] for i in results_list]\n",
    "y_score = [i[0] for i in results_list]\n",
    " \n",
    "fposrate, tposrate, _ = roc_curve(y_test, y_score)\n",
    "roc_auc = auc(fposrate, tposrate)\n",
    " \n",
    "%matplotlib inline\n",
    "mplt.pyplot.figure()\n",
    "mplt.pyplot.plot(fposrate, tposrate, label='ROC curve (area = %0.2f)' % roc_auc)\n",
    "mplt.pyplot.plot([0, 1], [0, 1], 'k--')\n",
    "mplt.pyplot.xlim([0.0, 1.0])\n",
    "mplt.pyplot.ylim([0.0, 1.05])\n",
    "mplt.pyplot.xlabel('False Positive Rate')\n",
    "mplt.pyplot.ylabel('True Positive Rate')\n",
    "mplt.pyplot.title('ROC Curve')\n",
    "mplt.pyplot.legend(loc=\"lower right\")\n",
    "mplt.pyplot.show()"
   ]
  },
  {
   "cell_type": "markdown",
   "metadata": {},
   "source": [
    "Feature selection using feature importance score"
   ]
  },
  {
   "cell_type": "code",
   "execution_count": 28,
   "metadata": {
    "collapsed": true
   },
   "outputs": [],
   "source": [
    "# code adapted from scikit-learn.org\n",
    "def ExtractFeatureImp(featureImp, modeldata, featuresCol):\n",
    "    feature_list = []\n",
    "    for i in modeldata.schema[featuresCol].metadata[\"ml_attr\"][\"attrs\"]:\n",
    "        feature_list = feature_list + modeldata.schema[featuresCol].metadata[\"ml_attr\"][\"attrs\"][i]\n",
    "    listextract = pd.DataFrame(feature_list)\n",
    "    listextract['score'] = listextract['idx'].apply(lambda x: featureImp[x])\n",
    "    return(listextract.sort_values('score', ascending = False))"
   ]
  },
  {
   "cell_type": "code",
   "execution_count": 29,
   "metadata": {},
   "outputs": [
    {
     "data": {
      "text/html": [
       "<div>\n",
       "<style>\n",
       "    .dataframe thead tr:only-child th {\n",
       "        text-align: right;\n",
       "    }\n",
       "\n",
       "    .dataframe thead th {\n",
       "        text-align: left;\n",
       "    }\n",
       "\n",
       "    .dataframe tbody tr th {\n",
       "        vertical-align: top;\n",
       "    }\n",
       "</style>\n",
       "<table border=\"1\" class=\"dataframe\">\n",
       "  <thead>\n",
       "    <tr style=\"text-align: right;\">\n",
       "      <th></th>\n",
       "      <th>idx</th>\n",
       "      <th>name</th>\n",
       "      <th>vals</th>\n",
       "      <th>score</th>\n",
       "    </tr>\n",
       "  </thead>\n",
       "  <tbody>\n",
       "    <tr>\n",
       "      <th>3</th>\n",
       "      <td>3</td>\n",
       "      <td>payment_plan_days</td>\n",
       "      <td>NaN</td>\n",
       "      <td>0.400259</td>\n",
       "    </tr>\n",
       "    <tr>\n",
       "      <th>6</th>\n",
       "      <td>6</td>\n",
       "      <td>actual_amount_paid</td>\n",
       "      <td>NaN</td>\n",
       "      <td>0.211376</td>\n",
       "    </tr>\n",
       "    <tr>\n",
       "      <th>5</th>\n",
       "      <td>5</td>\n",
       "      <td>plan_list_price</td>\n",
       "      <td>NaN</td>\n",
       "      <td>0.188960</td>\n",
       "    </tr>\n",
       "    <tr>\n",
       "      <th>9</th>\n",
       "      <td>9</td>\n",
       "      <td>is_cancel</td>\n",
       "      <td>NaN</td>\n",
       "      <td>0.153361</td>\n",
       "    </tr>\n",
       "    <tr>\n",
       "      <th>8</th>\n",
       "      <td>8</td>\n",
       "      <td>is_auto_renew</td>\n",
       "      <td>NaN</td>\n",
       "      <td>0.017328</td>\n",
       "    </tr>\n",
       "    <tr>\n",
       "      <th>2</th>\n",
       "      <td>2</td>\n",
       "      <td>payment_method_id</td>\n",
       "      <td>NaN</td>\n",
       "      <td>0.017022</td>\n",
       "    </tr>\n",
       "    <tr>\n",
       "      <th>1</th>\n",
       "      <td>1</td>\n",
       "      <td>bd</td>\n",
       "      <td>NaN</td>\n",
       "      <td>0.004653</td>\n",
       "    </tr>\n",
       "    <tr>\n",
       "      <th>7</th>\n",
       "      <td>7</td>\n",
       "      <td>Time on board</td>\n",
       "      <td>NaN</td>\n",
       "      <td>0.004117</td>\n",
       "    </tr>\n",
       "    <tr>\n",
       "      <th>0</th>\n",
       "      <td>0</td>\n",
       "      <td>city</td>\n",
       "      <td>NaN</td>\n",
       "      <td>0.002383</td>\n",
       "    </tr>\n",
       "    <tr>\n",
       "      <th>10</th>\n",
       "      <td>10</td>\n",
       "      <td>genderCat</td>\n",
       "      <td>[male, female, NA]</td>\n",
       "      <td>0.000540</td>\n",
       "    </tr>\n",
       "  </tbody>\n",
       "</table>\n",
       "</div>"
      ],
      "text/plain": [
       "    idx                name                vals     score\n",
       "3     3   payment_plan_days                 NaN  0.400259\n",
       "6     6  actual_amount_paid                 NaN  0.211376\n",
       "5     5     plan_list_price                 NaN  0.188960\n",
       "9     9           is_cancel                 NaN  0.153361\n",
       "8     8       is_auto_renew                 NaN  0.017328\n",
       "2     2   payment_method_id                 NaN  0.017022\n",
       "1     1                  bd                 NaN  0.004653\n",
       "7     7       Time on board                 NaN  0.004117\n",
       "0     0                city                 NaN  0.002383\n",
       "10   10           genderCat  [male, female, NA]  0.000540"
      ]
     },
     "execution_count": 29,
     "metadata": {},
     "output_type": "execute_result"
    }
   ],
   "source": [
    "importances = ExtractFeatureImp(fit.featureImportances, transformed, \"features\").head(10)\n",
    "importances # First feature is the most important feature with a weight of ~ 0.27 \n",
    "            # and the 10th feature is the least important in the model."
   ]
  },
  {
   "cell_type": "code",
   "execution_count": 30,
   "metadata": {},
   "outputs": [
    {
     "data": {
      "text/plain": [
       "<matplotlib.axes._subplots.AxesSubplot at 0x29b92f404a8>"
      ]
     },
     "execution_count": 30,
     "metadata": {},
     "output_type": "execute_result"
    },
    {
     "data": {
      "image/png": "[encoded data removed]",
      "text/plain": [
       "<matplotlib.figure.Figure at 0x29b93720390>"
      ]
     },
     "metadata": {},
     "output_type": "display_data"
    }
   ],
   "source": [
    "importances.plot.bar(y = 'score', x = 'name', rot=90)"
   ]
  },
  {
   "cell_type": "markdown",
   "metadata": {},
   "source": [
    "# Build the KMeans Model"
   ]
  },
  {
   "cell_type": "markdown",
   "metadata": {},
   "source": [
    "Reading data from the csv file into a dataframe"
   ]
  },
  {
   "cell_type": "code",
   "execution_count": 4,
   "metadata": {},
   "outputs": [],
   "source": [
    "data= pd.read_csv('file:///home/cloudera/Downloads/data.csv',header=0)"
   ]
  },
  {
   "cell_type": "markdown",
   "metadata": {},
   "source": [
    "Splitting data into train and test datasets"
   ]
  },
  {
   "cell_type": "code",
   "execution_count": 5,
   "metadata": {},
   "outputs": [],
   "source": [
    "data['split'] = np.random.randn(data.shape[0],1)\n",
    "msk = np.random.rand(len(data)) <= 0.7\n",
    "train = data[msk]\n",
    "test =  data[~msk]"
   ]
  },
  {
   "cell_type": "markdown",
   "metadata": {},
   "source": [
    "Printing out the data"
   ]
  },
  {
   "cell_type": "code",
   "execution_count": 6,
   "metadata": {},
   "outputs": [
    {
     "name": "stdout",
     "output_type": "stream",
     "text": [
      "****Training data****\n",
      "                                           msno  city  bd  gender  \\\n",
      "0  Uf4DL7z+DPK8Pnb82pao8tC2PfSTuwIvlVDDqUru8SA=     5  32  female   \n",
      "1  7KuGYecfAiQCvs2ktZg4aaFvcudRNevM2LqsHGVashU=     5  32  female   \n",
      "3  qqM5POOe8//uuBUoANMczJibwta0YnUhvtPDVGTwjng=     5  32  female   \n",
      "5  b6I2j4Aqyq0hA2dHf2ZTcl4r23v8ljSFmdy41XkjGlw=     5  32  female   \n",
      "6  GDO2VDV0YXf2iDh54PT1cnM9Dr/KC7GTPAV/aleCv+k=     5  32  female   \n",
      "\n",
      "   registered_via  registration_init_time     Column1  Is_Churn  \\\n",
      "0               3                20141221  12/21/2014         1   \n",
      "1               3                20131207   12/7/2013         0   \n",
      "3               3                20150920   9/20/2015         0   \n",
      "5               3                20150205    2/5/2015         0   \n",
      "6               3                20160808    8/8/2016         0   \n",
      "\n",
      "   payment_method_id  payment_plan_days    ...     is_cancel  num_25  num_50  \\\n",
      "0                 38                 90    ...             0     8.0     4.0   \n",
      "1                 40                 30    ...             0     7.0     1.0   \n",
      "3                 36                 30    ...             0     2.0     1.0   \n",
      "5                 40                 30    ...             0     NaN     NaN   \n",
      "6                 37                 30    ...             0     1.0     0.0   \n",
      "\n",
      "   num_75 num_985  num_100 num_unq  total_secs  Loyalty     split  \n",
      "0     1.0     4.0     36.0    36.0   10430.627        0  0.060318  \n",
      "1     0.0     1.0     21.0    29.0    5619.767        5 -1.167486  \n",
      "3     2.0     1.0     22.0    26.0    6026.237        4 -0.288824  \n",
      "5     NaN     NaN      NaN     NaN         NaN        5 -1.251925  \n",
      "6     0.0     0.0     21.0    20.0    4549.735        5  0.348132  \n",
      "\n",
      "[5 rows x 28 columns]\n",
      "****Test Data****\n",
      "                                            msno  city  bd  gender  \\\n",
      "2   CqnzYX4UnocVkbygvMXzr6mdRamPSphCOfx/xl7ucPo=     5  32  female   \n",
      "4   EpbEiNi939eNb5EK6p8bE7c3heLnAHGK/qT9kgvxE+0=     5  32  female   \n",
      "10  4ejcpSlk9ABaKqfdjGFohuI1KL4vOHcNWoe/sdUN3sw=     5  32  female   \n",
      "13  GHGR/yCKg+v1Xs7qToce5ccsamim5y902BCGVsdt2mo=     5  32  female   \n",
      "14  BYkwjfwUEC3vAaKXW0HJLlLp6BfFur+NnwfgWkVyxIM=     5  32  female   \n",
      "\n",
      "    registered_via  registration_init_time     Column1  Is_Churn  \\\n",
      "2                3                20130428   4/28/2013         0   \n",
      "4                3                20121016  10/16/2012         0   \n",
      "10               3                20120825   8/25/2012         0   \n",
      "13               3                20150124   1/24/2015         0   \n",
      "14               3                20120623   6/23/2012         0   \n",
      "\n",
      "    payment_method_id  payment_plan_days    ...     is_cancel  num_25  num_50  \\\n",
      "2                  36                 30    ...             1     6.0     1.0   \n",
      "4                  33                 30    ...             0     NaN     NaN   \n",
      "10                 39                 30    ...             0     NaN     NaN   \n",
      "13                 40                 30    ...             0     2.0     0.0   \n",
      "14                 40                 30    ...             0     0.0     1.0   \n",
      "\n",
      "    num_75 num_985  num_100 num_unq  total_secs  Loyalty     split  \n",
      "2      0.0     0.0    182.0    36.0   39684.049        5 -0.071742  \n",
      "4      NaN     NaN      NaN     NaN         NaN        5  0.387890  \n",
      "10     NaN     NaN      NaN     NaN         NaN        5  1.972819  \n",
      "13     0.0     0.0     10.0    10.0    2430.967        5  0.089807  \n",
      "14     0.0     0.0     24.0    25.0    5649.162        5  0.785759  \n",
      "\n",
      "[5 rows x 28 columns]\n"
     ]
    }
   ],
   "source": [
    "print('****Training data****')\n",
    "print(train.head())\n",
    "\n",
    "print('****Test Data****')\n",
    "print(test.head())"
   ]
  },
  {
   "cell_type": "code",
   "execution_count": 7,
   "metadata": {},
   "outputs": [
    {
     "name": "stdout",
     "output_type": "stream",
     "text": [
      "               city            bd  registered_via  registration_init_time  \\\n",
      "count  16172.000000  16172.000000         16172.0            1.617200e+04   \n",
      "mean       5.683218     26.902424             3.0            2.013757e+07   \n",
      "std        2.063882      7.680095             0.0            1.342084e+04   \n",
      "min        3.000000     13.000000             3.0            2.011121e+07   \n",
      "25%        4.000000     22.000000             3.0            2.013012e+07   \n",
      "50%        5.000000     25.000000             3.0            2.014012e+07   \n",
      "75%        6.000000     30.000000             3.0            2.015041e+07   \n",
      "max       11.000000    106.000000             3.0            2.017032e+07   \n",
      "\n",
      "           Is_Churn  payment_method_id  payment_plan_days  plan_list_price  \\\n",
      "count  16172.000000       16172.000000       16172.000000     16172.000000   \n",
      "mean       0.119404          36.522879          39.402609       191.544831   \n",
      "std        0.324273           4.216239          49.992253       202.043446   \n",
      "min        0.000000           6.000000           1.000000         0.000000   \n",
      "25%        0.000000          36.000000          30.000000       149.000000   \n",
      "50%        0.000000          38.000000          30.000000       149.000000   \n",
      "75%        0.000000          39.000000          30.000000       180.000000   \n",
      "max        1.000000          40.000000         450.000000      1788.000000   \n",
      "\n",
      "       actual_amount_paid  is_auto_renew      ...          is_cancel  \\\n",
      "count        16172.000000   16172.000000      ...       16172.000000   \n",
      "mean           190.387212       0.729285      ...           0.029310   \n",
      "std            202.645142       0.444343      ...           0.168679   \n",
      "min              0.000000       0.000000      ...           0.000000   \n",
      "25%            149.000000       0.000000      ...           0.000000   \n",
      "50%            149.000000       1.000000      ...           0.000000   \n",
      "75%            180.000000       1.000000      ...           0.000000   \n",
      "max           1788.000000       1.000000      ...           1.000000   \n",
      "\n",
      "             num_25        num_50        num_75       num_985       num_100  \\\n",
      "count  10076.000000  10076.000000  10076.000000  10076.000000  10076.000000   \n",
      "mean       6.281064      1.559944      0.985609      1.117308     31.299821   \n",
      "std       11.989822      3.562178      2.034172      2.870459     42.191563   \n",
      "min        0.000000      0.000000      0.000000      0.000000      0.000000   \n",
      "25%        0.000000      0.000000      0.000000      0.000000      7.000000   \n",
      "50%        2.000000      1.000000      0.000000      0.000000     17.000000   \n",
      "75%        7.000000      2.000000      1.000000      1.000000     38.000000   \n",
      "max      282.000000     79.000000     80.000000    139.000000   1288.000000   \n",
      "\n",
      "            num_unq     total_secs       Loyalty         split  \n",
      "count  10076.000000   10076.000000  16172.000000  16172.000000  \n",
      "mean      30.673978    8211.058151      4.516448     -0.004250  \n",
      "std       33.873728   10300.606569      1.108337      1.000926  \n",
      "min        1.000000       0.169000      0.000000     -4.043391  \n",
      "25%        9.000000    2067.640250      4.000000     -0.674124  \n",
      "50%       19.000000    4714.089000      5.000000     -0.004604  \n",
      "75%       40.000000    9988.152250      5.000000      0.669683  \n",
      "max      651.000000  298415.444000      5.000000      3.708036  \n",
      "\n",
      "[8 rows x 23 columns]\n"
     ]
    }
   ],
   "source": [
    "print(train.describe())"
   ]
  },
  {
   "cell_type": "code",
   "execution_count": 8,
   "metadata": {},
   "outputs": [
    {
     "name": "stdout",
     "output_type": "stream",
     "text": [
      "              city           bd  registered_via  registration_init_time  \\\n",
      "count  7015.000000  7015.000000          7015.0            7.015000e+03   \n",
      "mean      5.657163    26.965502             3.0            2.013778e+07   \n",
      "std       2.042061     7.477060             0.0            1.340809e+04   \n",
      "min       3.000000    14.000000             3.0            2.011121e+07   \n",
      "25%       4.000000    22.000000             3.0            2.013012e+07   \n",
      "50%       5.000000    26.000000             3.0            2.014021e+07   \n",
      "75%       6.000000    30.000000             3.0            2.015042e+07   \n",
      "max      11.000000   106.000000             3.0            2.017032e+07   \n",
      "\n",
      "          Is_Churn  payment_method_id  payment_plan_days  plan_list_price  \\\n",
      "count  7015.000000        7015.000000        7015.000000      7015.000000   \n",
      "mean      0.115324          36.561796          39.252887       191.219815   \n",
      "std       0.319436           4.139101          49.939338       203.059733   \n",
      "min       0.000000          12.000000           7.000000         0.000000   \n",
      "25%       0.000000          36.000000          30.000000       149.000000   \n",
      "50%       0.000000          38.000000          30.000000       149.000000   \n",
      "75%       0.000000          39.000000          30.000000       180.000000   \n",
      "max       1.000000          40.000000         450.000000      1788.000000   \n",
      "\n",
      "       actual_amount_paid  is_auto_renew     ...         is_cancel  \\\n",
      "count         7015.000000     7015.00000     ...       7015.000000   \n",
      "mean           189.775766        0.73913     ...          0.025374   \n",
      "std            203.797578        0.43914     ...          0.157270   \n",
      "min              0.000000        0.00000     ...          0.000000   \n",
      "25%            149.000000        0.00000     ...          0.000000   \n",
      "50%            149.000000        1.00000     ...          0.000000   \n",
      "75%            180.000000        1.00000     ...          0.000000   \n",
      "max           1788.000000        1.00000     ...          1.000000   \n",
      "\n",
      "            num_25       num_50       num_75      num_985      num_100  \\\n",
      "count  4380.000000  4380.000000  4380.000000  4380.000000  4380.000000   \n",
      "mean      6.475342     1.556164     1.005251     1.156621    30.481963   \n",
      "std      15.486496     4.145757     3.199712     3.356239    37.937430   \n",
      "min       0.000000     0.000000     0.000000     0.000000     0.000000   \n",
      "25%       0.000000     0.000000     0.000000     0.000000     7.000000   \n",
      "50%       2.000000     1.000000     0.000000     0.000000    17.000000   \n",
      "75%       7.000000     2.000000     1.000000     1.000000    38.000000   \n",
      "max     675.000000   153.000000   164.000000   121.000000   569.000000   \n",
      "\n",
      "           num_unq     total_secs      Loyalty        split  \n",
      "count  4380.000000    4380.000000  7015.000000  7015.000000  \n",
      "mean     29.976256    8024.957137     4.527299     0.001092  \n",
      "std      32.328440    9449.150370     1.100621     1.004542  \n",
      "min       1.000000       0.784000     0.000000    -3.940239  \n",
      "25%       9.000000    2046.973250     4.000000    -0.673395  \n",
      "50%      19.000000    4776.261500     5.000000    -0.005579  \n",
      "75%      40.000000   10159.717750     5.000000     0.678699  \n",
      "max     431.000000  144731.950000     5.000000     3.425229  \n",
      "\n",
      "[8 rows x 23 columns]\n"
     ]
    }
   ],
   "source": [
    "print(test.describe())"
   ]
  },
  {
   "cell_type": "markdown",
   "metadata": {},
   "source": [
    "Checking if there are any null values in both the test and train sets."
   ]
  },
  {
   "cell_type": "code",
   "execution_count": 9,
   "metadata": {},
   "outputs": [
    {
     "data": {
      "text/html": [
       "<div>\n",
       "<style scoped>\n",
       "    .dataframe tbody tr th:only-of-type {\n",
       "        vertical-align: middle;\n",
       "    }\n",
       "\n",
       "    .dataframe tbody tr th {\n",
       "        vertical-align: top;\n",
       "    }\n",
       "\n",
       "    .dataframe thead th {\n",
       "        text-align: right;\n",
       "    }\n",
       "</style>\n",
       "<table border=\"1\" class=\"dataframe\">\n",
       "  <thead>\n",
       "    <tr style=\"text-align: right;\">\n",
       "      <th></th>\n",
       "      <th>msno</th>\n",
       "      <th>city</th>\n",
       "      <th>bd</th>\n",
       "      <th>gender</th>\n",
       "      <th>registered_via</th>\n",
       "      <th>registration_init_time</th>\n",
       "      <th>Column1</th>\n",
       "      <th>Is_Churn</th>\n",
       "      <th>payment_method_id</th>\n",
       "      <th>payment_plan_days</th>\n",
       "      <th>...</th>\n",
       "      <th>is_cancel</th>\n",
       "      <th>num_25</th>\n",
       "      <th>num_50</th>\n",
       "      <th>num_75</th>\n",
       "      <th>num_985</th>\n",
       "      <th>num_100</th>\n",
       "      <th>num_unq</th>\n",
       "      <th>total_secs</th>\n",
       "      <th>Loyalty</th>\n",
       "      <th>split</th>\n",
       "    </tr>\n",
       "  </thead>\n",
       "  <tbody>\n",
       "    <tr>\n",
       "      <th>2</th>\n",
       "      <td>False</td>\n",
       "      <td>False</td>\n",
       "      <td>False</td>\n",
       "      <td>False</td>\n",
       "      <td>False</td>\n",
       "      <td>False</td>\n",
       "      <td>False</td>\n",
       "      <td>False</td>\n",
       "      <td>False</td>\n",
       "      <td>False</td>\n",
       "      <td>...</td>\n",
       "      <td>False</td>\n",
       "      <td>False</td>\n",
       "      <td>False</td>\n",
       "      <td>False</td>\n",
       "      <td>False</td>\n",
       "      <td>False</td>\n",
       "      <td>False</td>\n",
       "      <td>False</td>\n",
       "      <td>False</td>\n",
       "      <td>False</td>\n",
       "    </tr>\n",
       "    <tr>\n",
       "      <th>4</th>\n",
       "      <td>False</td>\n",
       "      <td>False</td>\n",
       "      <td>False</td>\n",
       "      <td>False</td>\n",
       "      <td>False</td>\n",
       "      <td>False</td>\n",
       "      <td>False</td>\n",
       "      <td>False</td>\n",
       "      <td>False</td>\n",
       "      <td>False</td>\n",
       "      <td>...</td>\n",
       "      <td>False</td>\n",
       "      <td>True</td>\n",
       "      <td>True</td>\n",
       "      <td>True</td>\n",
       "      <td>True</td>\n",
       "      <td>True</td>\n",
       "      <td>True</td>\n",
       "      <td>True</td>\n",
       "      <td>False</td>\n",
       "      <td>False</td>\n",
       "    </tr>\n",
       "    <tr>\n",
       "      <th>10</th>\n",
       "      <td>False</td>\n",
       "      <td>False</td>\n",
       "      <td>False</td>\n",
       "      <td>False</td>\n",
       "      <td>False</td>\n",
       "      <td>False</td>\n",
       "      <td>False</td>\n",
       "      <td>False</td>\n",
       "      <td>False</td>\n",
       "      <td>False</td>\n",
       "      <td>...</td>\n",
       "      <td>False</td>\n",
       "      <td>True</td>\n",
       "      <td>True</td>\n",
       "      <td>True</td>\n",
       "      <td>True</td>\n",
       "      <td>True</td>\n",
       "      <td>True</td>\n",
       "      <td>True</td>\n",
       "      <td>False</td>\n",
       "      <td>False</td>\n",
       "    </tr>\n",
       "    <tr>\n",
       "      <th>13</th>\n",
       "      <td>False</td>\n",
       "      <td>False</td>\n",
       "      <td>False</td>\n",
       "      <td>False</td>\n",
       "      <td>False</td>\n",
       "      <td>False</td>\n",
       "      <td>False</td>\n",
       "      <td>False</td>\n",
       "      <td>False</td>\n",
       "      <td>False</td>\n",
       "      <td>...</td>\n",
       "      <td>False</td>\n",
       "      <td>False</td>\n",
       "      <td>False</td>\n",
       "      <td>False</td>\n",
       "      <td>False</td>\n",
       "      <td>False</td>\n",
       "      <td>False</td>\n",
       "      <td>False</td>\n",
       "      <td>False</td>\n",
       "      <td>False</td>\n",
       "    </tr>\n",
       "    <tr>\n",
       "      <th>14</th>\n",
       "      <td>False</td>\n",
       "      <td>False</td>\n",
       "      <td>False</td>\n",
       "      <td>False</td>\n",
       "      <td>False</td>\n",
       "      <td>False</td>\n",
       "      <td>False</td>\n",
       "      <td>False</td>\n",
       "      <td>False</td>\n",
       "      <td>False</td>\n",
       "      <td>...</td>\n",
       "      <td>False</td>\n",
       "      <td>False</td>\n",
       "      <td>False</td>\n",
       "      <td>False</td>\n",
       "      <td>False</td>\n",
       "      <td>False</td>\n",
       "      <td>False</td>\n",
       "      <td>False</td>\n",
       "      <td>False</td>\n",
       "      <td>False</td>\n",
       "    </tr>\n",
       "  </tbody>\n",
       "</table>\n",
       "<p>5 rows × 28 columns</p>\n",
       "</div>"
      ],
      "text/plain": [
       "     msno   city     bd  gender  registered_via  registration_init_time  \\\n",
       "2   False  False  False   False           False                   False   \n",
       "4   False  False  False   False           False                   False   \n",
       "10  False  False  False   False           False                   False   \n",
       "13  False  False  False   False           False                   False   \n",
       "14  False  False  False   False           False                   False   \n",
       "\n",
       "    Column1  Is_Churn  payment_method_id  payment_plan_days  ...    is_cancel  \\\n",
       "2     False     False              False              False  ...        False   \n",
       "4     False     False              False              False  ...        False   \n",
       "10    False     False              False              False  ...        False   \n",
       "13    False     False              False              False  ...        False   \n",
       "14    False     False              False              False  ...        False   \n",
       "\n",
       "    num_25  num_50  num_75  num_985  num_100  num_unq  total_secs  Loyalty  \\\n",
       "2    False   False   False    False    False    False       False    False   \n",
       "4     True    True    True     True     True     True        True    False   \n",
       "10    True    True    True     True     True     True        True    False   \n",
       "13   False   False   False    False    False    False       False    False   \n",
       "14   False   False   False    False    False    False       False    False   \n",
       "\n",
       "    split  \n",
       "2   False  \n",
       "4   False  \n",
       "10  False  \n",
       "13  False  \n",
       "14  False  \n",
       "\n",
       "[5 rows x 28 columns]"
      ]
     },
     "execution_count": 9,
     "metadata": {},
     "output_type": "execute_result"
    }
   ],
   "source": [
    "train.isnull().head()\n",
    "\n",
    "test.isnull().head()"
   ]
  },
  {
   "cell_type": "markdown",
   "metadata": {},
   "source": [
    "Checking for any missing values in the train and test datasets."
   ]
  },
  {
   "cell_type": "code",
   "execution_count": 10,
   "metadata": {},
   "outputs": [
    {
     "name": "stdout",
     "output_type": "stream",
     "text": [
      "***Missing Values in training dataset***\n",
      "msno                         0\n",
      "city                         0\n",
      "bd                           0\n",
      "gender                     180\n",
      "registered_via               0\n",
      "registration_init_time       0\n",
      "Column1                      0\n",
      "Is_Churn                     0\n",
      "payment_method_id            0\n",
      "payment_plan_days            0\n",
      "plan_list_price              0\n",
      "actual_amount_paid           0\n",
      "is_auto_renew                0\n",
      "transaction_date             0\n",
      "Column2                      0\n",
      "membership_expire_date       0\n",
      "Column3                      0\n",
      "Time on board                0\n",
      "is_cancel                    0\n",
      "num_25                    6096\n",
      "num_50                    6096\n",
      "num_75                    6096\n",
      "num_985                   6096\n",
      "num_100                   6096\n",
      "num_unq                   6096\n",
      "total_secs                6096\n",
      "Loyalty                      0\n",
      "split                        0\n",
      "dtype: int64\n",
      "\n",
      "\n",
      "***Missing Values in test dataset***\n",
      "msno                         0\n",
      "city                         0\n",
      "bd                           0\n",
      "gender                      75\n",
      "registered_via               0\n",
      "registration_init_time       0\n",
      "Column1                      0\n",
      "Is_Churn                     0\n",
      "payment_method_id            0\n",
      "payment_plan_days            0\n",
      "plan_list_price              0\n",
      "actual_amount_paid           0\n",
      "is_auto_renew                0\n",
      "transaction_date             0\n",
      "Column2                      0\n",
      "membership_expire_date       0\n",
      "Column3                      0\n",
      "Time on board                0\n",
      "is_cancel                    0\n",
      "num_25                    2635\n",
      "num_50                    2635\n",
      "num_75                    2635\n",
      "num_985                   2635\n",
      "num_100                   2635\n",
      "num_unq                   2635\n",
      "total_secs                2635\n",
      "Loyalty                      0\n",
      "split                        0\n",
      "dtype: int64\n"
     ]
    }
   ],
   "source": [
    "print(\"***Missing Values in training dataset***\")\n",
    "print(train.isnull().sum())\n",
    "print(\"\\n\")\n",
    "print(\"***Missing Values in test dataset***\")\n",
    "print(test.isnull().sum())"
   ]
  },
  {
   "cell_type": "markdown",
   "metadata": {},
   "source": [
    "Drop the columns which do not have any effect on the Is_churn variable"
   ]
  },
  {
   "cell_type": "code",
   "execution_count": 11,
   "metadata": {},
   "outputs": [
    {
     "name": "stdout",
     "output_type": "stream",
     "text": [
      "<class 'pandas.core.frame.DataFrame'>\n",
      "Int64Index: 16172 entries, 0 to 23186\n",
      "Data columns (total 28 columns):\n",
      "msno                      16172 non-null object\n",
      "city                      16172 non-null int64\n",
      "bd                        16172 non-null int64\n",
      "gender                    15992 non-null object\n",
      "registered_via            16172 non-null int64\n",
      "registration_init_time    16172 non-null int64\n",
      "Column1                   16172 non-null object\n",
      "Is_Churn                  16172 non-null int64\n",
      "payment_method_id         16172 non-null int64\n",
      "payment_plan_days         16172 non-null int64\n",
      "plan_list_price           16172 non-null int64\n",
      "actual_amount_paid        16172 non-null int64\n",
      "is_auto_renew             16172 non-null int64\n",
      "transaction_date          16172 non-null int64\n",
      "Column2                   16172 non-null object\n",
      "membership_expire_date    16172 non-null int64\n",
      "Column3                   16172 non-null object\n",
      "Time on board             16172 non-null int64\n",
      "is_cancel                 16172 non-null int64\n",
      "num_25                    10076 non-null float64\n",
      "num_50                    10076 non-null float64\n",
      "num_75                    10076 non-null float64\n",
      "num_985                   10076 non-null float64\n",
      "num_100                   10076 non-null float64\n",
      "num_unq                   10076 non-null float64\n",
      "total_secs                10076 non-null float64\n",
      "Loyalty                   16172 non-null int64\n",
      "split                     16172 non-null float64\n",
      "dtypes: float64(8), int64(15), object(5)\n",
      "memory usage: 3.6+ MB\n"
     ]
    }
   ],
   "source": [
    "train.drop('msno',axis=1)\n",
    "test.drop('msno',axis=1)\n",
    "\n",
    "train.info()"
   ]
  },
  {
   "cell_type": "markdown",
   "metadata": {},
   "source": [
    "Drop the irrelevant values"
   ]
  },
  {
   "cell_type": "code",
   "execution_count": 12,
   "metadata": {},
   "outputs": [
    {
     "name": "stdout",
     "output_type": "stream",
     "text": [
      "<class 'pandas.core.frame.DataFrame'>\n",
      "Int64Index: 16172 entries, 0 to 23186\n",
      "Data columns (total 10 columns):\n",
      "bd                    16172 non-null int64\n",
      "gender                15992 non-null object\n",
      "Is_Churn              16172 non-null int64\n",
      "payment_plan_days     16172 non-null int64\n",
      "plan_list_price       16172 non-null int64\n",
      "actual_amount_paid    16172 non-null int64\n",
      "is_auto_renew         16172 non-null int64\n",
      "Time on board         16172 non-null int64\n",
      "is_cancel             16172 non-null int64\n",
      "num_unq               10076 non-null float64\n",
      "dtypes: float64(1), int64(8), object(1)\n",
      "memory usage: 1.4+ MB\n"
     ]
    }
   ],
   "source": [
    "train = train.drop(['msno','Loyalty','split','city','total_secs',\n",
    "             'num_100','num_985','num_75','num_50','num_25',\n",
    "             'Column3','membership_expire_date','Column2','registration_init_time',\n",
    "              'transaction_date','registered_via','Column1','payment_method_id'],axis=1)\n",
    "train.info()"
   ]
  },
  {
   "cell_type": "code",
   "execution_count": 13,
   "metadata": {},
   "outputs": [
    {
     "name": "stdout",
     "output_type": "stream",
     "text": [
      "<class 'pandas.core.frame.DataFrame'>\n",
      "Int64Index: 16172 entries, 0 to 23186\n",
      "Data columns (total 9 columns):\n",
      "bd                    16172 non-null int64\n",
      "gender                15992 non-null object\n",
      "Is_Churn              16172 non-null int64\n",
      "payment_plan_days     16172 non-null int64\n",
      "plan_list_price       16172 non-null int64\n",
      "actual_amount_paid    16172 non-null int64\n",
      "is_auto_renew         16172 non-null int64\n",
      "Time on board         16172 non-null int64\n",
      "is_cancel             16172 non-null int64\n",
      "dtypes: int64(8), object(1)\n",
      "memory usage: 1.2+ MB\n"
     ]
    }
   ],
   "source": [
    "train = train.drop('num_unq', axis=1)\n",
    "train.info()\n"
   ]
  },
  {
   "cell_type": "markdown",
   "metadata": {},
   "source": [
    "Drop the columns which are not relevant from the test data."
   ]
  },
  {
   "cell_type": "code",
   "execution_count": 14,
   "metadata": {},
   "outputs": [
    {
     "data": {
      "text/html": [
       "<div>\n",
       "<style scoped>\n",
       "    .dataframe tbody tr th:only-of-type {\n",
       "        vertical-align: middle;\n",
       "    }\n",
       "\n",
       "    .dataframe tbody tr th {\n",
       "        vertical-align: top;\n",
       "    }\n",
       "\n",
       "    .dataframe thead th {\n",
       "        text-align: right;\n",
       "    }\n",
       "</style>\n",
       "<table border=\"1\" class=\"dataframe\">\n",
       "  <thead>\n",
       "    <tr style=\"text-align: right;\">\n",
       "      <th></th>\n",
       "      <th>bd</th>\n",
       "      <th>gender</th>\n",
       "      <th>Is_Churn</th>\n",
       "      <th>payment_plan_days</th>\n",
       "      <th>plan_list_price</th>\n",
       "      <th>actual_amount_paid</th>\n",
       "      <th>is_auto_renew</th>\n",
       "      <th>Time on board</th>\n",
       "      <th>is_cancel</th>\n",
       "    </tr>\n",
       "  </thead>\n",
       "  <tbody>\n",
       "    <tr>\n",
       "      <th>2</th>\n",
       "      <td>32</td>\n",
       "      <td>female</td>\n",
       "      <td>0</td>\n",
       "      <td>30</td>\n",
       "      <td>180</td>\n",
       "      <td>180</td>\n",
       "      <td>1</td>\n",
       "      <td>1416</td>\n",
       "      <td>1</td>\n",
       "    </tr>\n",
       "    <tr>\n",
       "      <th>4</th>\n",
       "      <td>32</td>\n",
       "      <td>female</td>\n",
       "      <td>0</td>\n",
       "      <td>30</td>\n",
       "      <td>149</td>\n",
       "      <td>149</td>\n",
       "      <td>1</td>\n",
       "      <td>1632</td>\n",
       "      <td>0</td>\n",
       "    </tr>\n",
       "    <tr>\n",
       "      <th>10</th>\n",
       "      <td>32</td>\n",
       "      <td>female</td>\n",
       "      <td>0</td>\n",
       "      <td>30</td>\n",
       "      <td>149</td>\n",
       "      <td>149</td>\n",
       "      <td>1</td>\n",
       "      <td>1716</td>\n",
       "      <td>0</td>\n",
       "    </tr>\n",
       "    <tr>\n",
       "      <th>13</th>\n",
       "      <td>32</td>\n",
       "      <td>female</td>\n",
       "      <td>0</td>\n",
       "      <td>30</td>\n",
       "      <td>149</td>\n",
       "      <td>149</td>\n",
       "      <td>1</td>\n",
       "      <td>812</td>\n",
       "      <td>0</td>\n",
       "    </tr>\n",
       "    <tr>\n",
       "      <th>14</th>\n",
       "      <td>32</td>\n",
       "      <td>female</td>\n",
       "      <td>0</td>\n",
       "      <td>30</td>\n",
       "      <td>149</td>\n",
       "      <td>149</td>\n",
       "      <td>1</td>\n",
       "      <td>1748</td>\n",
       "      <td>0</td>\n",
       "    </tr>\n",
       "    <tr>\n",
       "      <th>19</th>\n",
       "      <td>32</td>\n",
       "      <td>female</td>\n",
       "      <td>0</td>\n",
       "      <td>30</td>\n",
       "      <td>180</td>\n",
       "      <td>180</td>\n",
       "      <td>1</td>\n",
       "      <td>787</td>\n",
       "      <td>0</td>\n",
       "    </tr>\n",
       "    <tr>\n",
       "      <th>21</th>\n",
       "      <td>32</td>\n",
       "      <td>female</td>\n",
       "      <td>0</td>\n",
       "      <td>30</td>\n",
       "      <td>149</td>\n",
       "      <td>149</td>\n",
       "      <td>1</td>\n",
       "      <td>277</td>\n",
       "      <td>0</td>\n",
       "    </tr>\n",
       "    <tr>\n",
       "      <th>28</th>\n",
       "      <td>32</td>\n",
       "      <td>female</td>\n",
       "      <td>1</td>\n",
       "      <td>30</td>\n",
       "      <td>180</td>\n",
       "      <td>180</td>\n",
       "      <td>0</td>\n",
       "      <td>1609</td>\n",
       "      <td>0</td>\n",
       "    </tr>\n",
       "    <tr>\n",
       "      <th>30</th>\n",
       "      <td>32</td>\n",
       "      <td>female</td>\n",
       "      <td>0</td>\n",
       "      <td>30</td>\n",
       "      <td>180</td>\n",
       "      <td>180</td>\n",
       "      <td>0</td>\n",
       "      <td>199</td>\n",
       "      <td>0</td>\n",
       "    </tr>\n",
       "    <tr>\n",
       "      <th>32</th>\n",
       "      <td>37</td>\n",
       "      <td>female</td>\n",
       "      <td>0</td>\n",
       "      <td>30</td>\n",
       "      <td>149</td>\n",
       "      <td>149</td>\n",
       "      <td>1</td>\n",
       "      <td>672</td>\n",
       "      <td>0</td>\n",
       "    </tr>\n",
       "    <tr>\n",
       "      <th>33</th>\n",
       "      <td>37</td>\n",
       "      <td>female</td>\n",
       "      <td>0</td>\n",
       "      <td>30</td>\n",
       "      <td>180</td>\n",
       "      <td>180</td>\n",
       "      <td>0</td>\n",
       "      <td>1785</td>\n",
       "      <td>0</td>\n",
       "    </tr>\n",
       "    <tr>\n",
       "      <th>34</th>\n",
       "      <td>37</td>\n",
       "      <td>female</td>\n",
       "      <td>0</td>\n",
       "      <td>30</td>\n",
       "      <td>149</td>\n",
       "      <td>149</td>\n",
       "      <td>1</td>\n",
       "      <td>1094</td>\n",
       "      <td>0</td>\n",
       "    </tr>\n",
       "    <tr>\n",
       "      <th>35</th>\n",
       "      <td>37</td>\n",
       "      <td>female</td>\n",
       "      <td>0</td>\n",
       "      <td>30</td>\n",
       "      <td>149</td>\n",
       "      <td>149</td>\n",
       "      <td>1</td>\n",
       "      <td>1513</td>\n",
       "      <td>0</td>\n",
       "    </tr>\n",
       "    <tr>\n",
       "      <th>42</th>\n",
       "      <td>37</td>\n",
       "      <td>female</td>\n",
       "      <td>0</td>\n",
       "      <td>30</td>\n",
       "      <td>149</td>\n",
       "      <td>149</td>\n",
       "      <td>1</td>\n",
       "      <td>1082</td>\n",
       "      <td>0</td>\n",
       "    </tr>\n",
       "    <tr>\n",
       "      <th>43</th>\n",
       "      <td>37</td>\n",
       "      <td>female</td>\n",
       "      <td>0</td>\n",
       "      <td>30</td>\n",
       "      <td>149</td>\n",
       "      <td>149</td>\n",
       "      <td>1</td>\n",
       "      <td>1747</td>\n",
       "      <td>0</td>\n",
       "    </tr>\n",
       "    <tr>\n",
       "      <th>45</th>\n",
       "      <td>37</td>\n",
       "      <td>female</td>\n",
       "      <td>0</td>\n",
       "      <td>30</td>\n",
       "      <td>149</td>\n",
       "      <td>149</td>\n",
       "      <td>1</td>\n",
       "      <td>1591</td>\n",
       "      <td>0</td>\n",
       "    </tr>\n",
       "    <tr>\n",
       "      <th>50</th>\n",
       "      <td>37</td>\n",
       "      <td>female</td>\n",
       "      <td>0</td>\n",
       "      <td>30</td>\n",
       "      <td>149</td>\n",
       "      <td>149</td>\n",
       "      <td>1</td>\n",
       "      <td>892</td>\n",
       "      <td>0</td>\n",
       "    </tr>\n",
       "    <tr>\n",
       "      <th>55</th>\n",
       "      <td>37</td>\n",
       "      <td>female</td>\n",
       "      <td>0</td>\n",
       "      <td>30</td>\n",
       "      <td>149</td>\n",
       "      <td>149</td>\n",
       "      <td>1</td>\n",
       "      <td>888</td>\n",
       "      <td>0</td>\n",
       "    </tr>\n",
       "    <tr>\n",
       "      <th>57</th>\n",
       "      <td>37</td>\n",
       "      <td>female</td>\n",
       "      <td>0</td>\n",
       "      <td>30</td>\n",
       "      <td>149</td>\n",
       "      <td>149</td>\n",
       "      <td>1</td>\n",
       "      <td>1111</td>\n",
       "      <td>0</td>\n",
       "    </tr>\n",
       "    <tr>\n",
       "      <th>59</th>\n",
       "      <td>37</td>\n",
       "      <td>female</td>\n",
       "      <td>0</td>\n",
       "      <td>30</td>\n",
       "      <td>149</td>\n",
       "      <td>149</td>\n",
       "      <td>1</td>\n",
       "      <td>1449</td>\n",
       "      <td>0</td>\n",
       "    </tr>\n",
       "    <tr>\n",
       "      <th>64</th>\n",
       "      <td>37</td>\n",
       "      <td>female</td>\n",
       "      <td>1</td>\n",
       "      <td>30</td>\n",
       "      <td>180</td>\n",
       "      <td>180</td>\n",
       "      <td>1</td>\n",
       "      <td>1408</td>\n",
       "      <td>1</td>\n",
       "    </tr>\n",
       "    <tr>\n",
       "      <th>65</th>\n",
       "      <td>37</td>\n",
       "      <td>female</td>\n",
       "      <td>0</td>\n",
       "      <td>30</td>\n",
       "      <td>149</td>\n",
       "      <td>149</td>\n",
       "      <td>1</td>\n",
       "      <td>427</td>\n",
       "      <td>0</td>\n",
       "    </tr>\n",
       "    <tr>\n",
       "      <th>68</th>\n",
       "      <td>37</td>\n",
       "      <td>female</td>\n",
       "      <td>0</td>\n",
       "      <td>30</td>\n",
       "      <td>149</td>\n",
       "      <td>149</td>\n",
       "      <td>1</td>\n",
       "      <td>866</td>\n",
       "      <td>0</td>\n",
       "    </tr>\n",
       "    <tr>\n",
       "      <th>69</th>\n",
       "      <td>37</td>\n",
       "      <td>female</td>\n",
       "      <td>0</td>\n",
       "      <td>30</td>\n",
       "      <td>149</td>\n",
       "      <td>149</td>\n",
       "      <td>1</td>\n",
       "      <td>681</td>\n",
       "      <td>0</td>\n",
       "    </tr>\n",
       "    <tr>\n",
       "      <th>72</th>\n",
       "      <td>37</td>\n",
       "      <td>female</td>\n",
       "      <td>0</td>\n",
       "      <td>30</td>\n",
       "      <td>149</td>\n",
       "      <td>149</td>\n",
       "      <td>1</td>\n",
       "      <td>664</td>\n",
       "      <td>0</td>\n",
       "    </tr>\n",
       "    <tr>\n",
       "      <th>75</th>\n",
       "      <td>37</td>\n",
       "      <td>female</td>\n",
       "      <td>0</td>\n",
       "      <td>30</td>\n",
       "      <td>180</td>\n",
       "      <td>180</td>\n",
       "      <td>0</td>\n",
       "      <td>1591</td>\n",
       "      <td>0</td>\n",
       "    </tr>\n",
       "    <tr>\n",
       "      <th>77</th>\n",
       "      <td>37</td>\n",
       "      <td>female</td>\n",
       "      <td>0</td>\n",
       "      <td>30</td>\n",
       "      <td>149</td>\n",
       "      <td>149</td>\n",
       "      <td>1</td>\n",
       "      <td>492</td>\n",
       "      <td>0</td>\n",
       "    </tr>\n",
       "    <tr>\n",
       "      <th>79</th>\n",
       "      <td>37</td>\n",
       "      <td>female</td>\n",
       "      <td>1</td>\n",
       "      <td>180</td>\n",
       "      <td>536</td>\n",
       "      <td>536</td>\n",
       "      <td>0</td>\n",
       "      <td>1571</td>\n",
       "      <td>0</td>\n",
       "    </tr>\n",
       "    <tr>\n",
       "      <th>83</th>\n",
       "      <td>37</td>\n",
       "      <td>female</td>\n",
       "      <td>1</td>\n",
       "      <td>30</td>\n",
       "      <td>149</td>\n",
       "      <td>149</td>\n",
       "      <td>1</td>\n",
       "      <td>1843</td>\n",
       "      <td>0</td>\n",
       "    </tr>\n",
       "    <tr>\n",
       "      <th>84</th>\n",
       "      <td>37</td>\n",
       "      <td>female</td>\n",
       "      <td>1</td>\n",
       "      <td>100</td>\n",
       "      <td>480</td>\n",
       "      <td>480</td>\n",
       "      <td>0</td>\n",
       "      <td>1980</td>\n",
       "      <td>0</td>\n",
       "    </tr>\n",
       "    <tr>\n",
       "      <th>...</th>\n",
       "      <td>...</td>\n",
       "      <td>...</td>\n",
       "      <td>...</td>\n",
       "      <td>...</td>\n",
       "      <td>...</td>\n",
       "      <td>...</td>\n",
       "      <td>...</td>\n",
       "      <td>...</td>\n",
       "      <td>...</td>\n",
       "    </tr>\n",
       "    <tr>\n",
       "      <th>23098</th>\n",
       "      <td>33</td>\n",
       "      <td>male</td>\n",
       "      <td>0</td>\n",
       "      <td>30</td>\n",
       "      <td>149</td>\n",
       "      <td>149</td>\n",
       "      <td>1</td>\n",
       "      <td>1777</td>\n",
       "      <td>0</td>\n",
       "    </tr>\n",
       "    <tr>\n",
       "      <th>23101</th>\n",
       "      <td>33</td>\n",
       "      <td>male</td>\n",
       "      <td>0</td>\n",
       "      <td>30</td>\n",
       "      <td>149</td>\n",
       "      <td>149</td>\n",
       "      <td>1</td>\n",
       "      <td>1537</td>\n",
       "      <td>0</td>\n",
       "    </tr>\n",
       "    <tr>\n",
       "      <th>23105</th>\n",
       "      <td>33</td>\n",
       "      <td>male</td>\n",
       "      <td>0</td>\n",
       "      <td>30</td>\n",
       "      <td>149</td>\n",
       "      <td>149</td>\n",
       "      <td>1</td>\n",
       "      <td>637</td>\n",
       "      <td>0</td>\n",
       "    </tr>\n",
       "    <tr>\n",
       "      <th>23106</th>\n",
       "      <td>33</td>\n",
       "      <td>male</td>\n",
       "      <td>0</td>\n",
       "      <td>30</td>\n",
       "      <td>180</td>\n",
       "      <td>180</td>\n",
       "      <td>1</td>\n",
       "      <td>250</td>\n",
       "      <td>0</td>\n",
       "    </tr>\n",
       "    <tr>\n",
       "      <th>23114</th>\n",
       "      <td>33</td>\n",
       "      <td>male</td>\n",
       "      <td>0</td>\n",
       "      <td>30</td>\n",
       "      <td>149</td>\n",
       "      <td>149</td>\n",
       "      <td>1</td>\n",
       "      <td>1012</td>\n",
       "      <td>0</td>\n",
       "    </tr>\n",
       "    <tr>\n",
       "      <th>23115</th>\n",
       "      <td>33</td>\n",
       "      <td>male</td>\n",
       "      <td>0</td>\n",
       "      <td>30</td>\n",
       "      <td>149</td>\n",
       "      <td>149</td>\n",
       "      <td>1</td>\n",
       "      <td>1254</td>\n",
       "      <td>0</td>\n",
       "    </tr>\n",
       "    <tr>\n",
       "      <th>23119</th>\n",
       "      <td>37</td>\n",
       "      <td>male</td>\n",
       "      <td>1</td>\n",
       "      <td>30</td>\n",
       "      <td>149</td>\n",
       "      <td>149</td>\n",
       "      <td>1</td>\n",
       "      <td>858</td>\n",
       "      <td>0</td>\n",
       "    </tr>\n",
       "    <tr>\n",
       "      <th>23123</th>\n",
       "      <td>37</td>\n",
       "      <td>male</td>\n",
       "      <td>0</td>\n",
       "      <td>30</td>\n",
       "      <td>100</td>\n",
       "      <td>100</td>\n",
       "      <td>1</td>\n",
       "      <td>1518</td>\n",
       "      <td>0</td>\n",
       "    </tr>\n",
       "    <tr>\n",
       "      <th>23129</th>\n",
       "      <td>37</td>\n",
       "      <td>male</td>\n",
       "      <td>0</td>\n",
       "      <td>30</td>\n",
       "      <td>149</td>\n",
       "      <td>149</td>\n",
       "      <td>1</td>\n",
       "      <td>775</td>\n",
       "      <td>0</td>\n",
       "    </tr>\n",
       "    <tr>\n",
       "      <th>23130</th>\n",
       "      <td>34</td>\n",
       "      <td>male</td>\n",
       "      <td>0</td>\n",
       "      <td>30</td>\n",
       "      <td>149</td>\n",
       "      <td>149</td>\n",
       "      <td>1</td>\n",
       "      <td>597</td>\n",
       "      <td>0</td>\n",
       "    </tr>\n",
       "    <tr>\n",
       "      <th>23134</th>\n",
       "      <td>34</td>\n",
       "      <td>male</td>\n",
       "      <td>0</td>\n",
       "      <td>30</td>\n",
       "      <td>149</td>\n",
       "      <td>149</td>\n",
       "      <td>1</td>\n",
       "      <td>1075</td>\n",
       "      <td>0</td>\n",
       "    </tr>\n",
       "    <tr>\n",
       "      <th>23136</th>\n",
       "      <td>34</td>\n",
       "      <td>male</td>\n",
       "      <td>0</td>\n",
       "      <td>30</td>\n",
       "      <td>149</td>\n",
       "      <td>149</td>\n",
       "      <td>1</td>\n",
       "      <td>1560</td>\n",
       "      <td>0</td>\n",
       "    </tr>\n",
       "    <tr>\n",
       "      <th>23137</th>\n",
       "      <td>34</td>\n",
       "      <td>male</td>\n",
       "      <td>0</td>\n",
       "      <td>30</td>\n",
       "      <td>149</td>\n",
       "      <td>149</td>\n",
       "      <td>1</td>\n",
       "      <td>1924</td>\n",
       "      <td>0</td>\n",
       "    </tr>\n",
       "    <tr>\n",
       "      <th>23139</th>\n",
       "      <td>34</td>\n",
       "      <td>male</td>\n",
       "      <td>0</td>\n",
       "      <td>30</td>\n",
       "      <td>149</td>\n",
       "      <td>149</td>\n",
       "      <td>1</td>\n",
       "      <td>1503</td>\n",
       "      <td>0</td>\n",
       "    </tr>\n",
       "    <tr>\n",
       "      <th>23140</th>\n",
       "      <td>34</td>\n",
       "      <td>male</td>\n",
       "      <td>0</td>\n",
       "      <td>30</td>\n",
       "      <td>149</td>\n",
       "      <td>149</td>\n",
       "      <td>1</td>\n",
       "      <td>1294</td>\n",
       "      <td>0</td>\n",
       "    </tr>\n",
       "    <tr>\n",
       "      <th>23146</th>\n",
       "      <td>36</td>\n",
       "      <td>male</td>\n",
       "      <td>0</td>\n",
       "      <td>30</td>\n",
       "      <td>149</td>\n",
       "      <td>149</td>\n",
       "      <td>1</td>\n",
       "      <td>535</td>\n",
       "      <td>0</td>\n",
       "    </tr>\n",
       "    <tr>\n",
       "      <th>23148</th>\n",
       "      <td>36</td>\n",
       "      <td>male</td>\n",
       "      <td>0</td>\n",
       "      <td>30</td>\n",
       "      <td>149</td>\n",
       "      <td>149</td>\n",
       "      <td>1</td>\n",
       "      <td>1874</td>\n",
       "      <td>0</td>\n",
       "    </tr>\n",
       "    <tr>\n",
       "      <th>23151</th>\n",
       "      <td>36</td>\n",
       "      <td>male</td>\n",
       "      <td>0</td>\n",
       "      <td>30</td>\n",
       "      <td>149</td>\n",
       "      <td>149</td>\n",
       "      <td>1</td>\n",
       "      <td>1507</td>\n",
       "      <td>0</td>\n",
       "    </tr>\n",
       "    <tr>\n",
       "      <th>23152</th>\n",
       "      <td>39</td>\n",
       "      <td>male</td>\n",
       "      <td>0</td>\n",
       "      <td>30</td>\n",
       "      <td>149</td>\n",
       "      <td>149</td>\n",
       "      <td>1</td>\n",
       "      <td>1580</td>\n",
       "      <td>0</td>\n",
       "    </tr>\n",
       "    <tr>\n",
       "      <th>23153</th>\n",
       "      <td>39</td>\n",
       "      <td>male</td>\n",
       "      <td>0</td>\n",
       "      <td>30</td>\n",
       "      <td>180</td>\n",
       "      <td>180</td>\n",
       "      <td>1</td>\n",
       "      <td>141</td>\n",
       "      <td>0</td>\n",
       "    </tr>\n",
       "    <tr>\n",
       "      <th>23159</th>\n",
       "      <td>35</td>\n",
       "      <td>male</td>\n",
       "      <td>0</td>\n",
       "      <td>30</td>\n",
       "      <td>149</td>\n",
       "      <td>149</td>\n",
       "      <td>1</td>\n",
       "      <td>1435</td>\n",
       "      <td>0</td>\n",
       "    </tr>\n",
       "    <tr>\n",
       "      <th>23161</th>\n",
       "      <td>35</td>\n",
       "      <td>male</td>\n",
       "      <td>0</td>\n",
       "      <td>30</td>\n",
       "      <td>180</td>\n",
       "      <td>180</td>\n",
       "      <td>1</td>\n",
       "      <td>1386</td>\n",
       "      <td>0</td>\n",
       "    </tr>\n",
       "    <tr>\n",
       "      <th>23162</th>\n",
       "      <td>35</td>\n",
       "      <td>male</td>\n",
       "      <td>0</td>\n",
       "      <td>30</td>\n",
       "      <td>180</td>\n",
       "      <td>180</td>\n",
       "      <td>1</td>\n",
       "      <td>858</td>\n",
       "      <td>0</td>\n",
       "    </tr>\n",
       "    <tr>\n",
       "      <th>23163</th>\n",
       "      <td>35</td>\n",
       "      <td>male</td>\n",
       "      <td>0</td>\n",
       "      <td>30</td>\n",
       "      <td>180</td>\n",
       "      <td>180</td>\n",
       "      <td>1</td>\n",
       "      <td>1116</td>\n",
       "      <td>0</td>\n",
       "    </tr>\n",
       "    <tr>\n",
       "      <th>23164</th>\n",
       "      <td>35</td>\n",
       "      <td>male</td>\n",
       "      <td>0</td>\n",
       "      <td>30</td>\n",
       "      <td>149</td>\n",
       "      <td>149</td>\n",
       "      <td>1</td>\n",
       "      <td>833</td>\n",
       "      <td>0</td>\n",
       "    </tr>\n",
       "    <tr>\n",
       "      <th>23167</th>\n",
       "      <td>35</td>\n",
       "      <td>male</td>\n",
       "      <td>0</td>\n",
       "      <td>30</td>\n",
       "      <td>180</td>\n",
       "      <td>180</td>\n",
       "      <td>1</td>\n",
       "      <td>1633</td>\n",
       "      <td>0</td>\n",
       "    </tr>\n",
       "    <tr>\n",
       "      <th>23168</th>\n",
       "      <td>35</td>\n",
       "      <td>male</td>\n",
       "      <td>0</td>\n",
       "      <td>30</td>\n",
       "      <td>149</td>\n",
       "      <td>149</td>\n",
       "      <td>1</td>\n",
       "      <td>1796</td>\n",
       "      <td>0</td>\n",
       "    </tr>\n",
       "    <tr>\n",
       "      <th>23171</th>\n",
       "      <td>40</td>\n",
       "      <td>male</td>\n",
       "      <td>0</td>\n",
       "      <td>30</td>\n",
       "      <td>180</td>\n",
       "      <td>180</td>\n",
       "      <td>1</td>\n",
       "      <td>1541</td>\n",
       "      <td>0</td>\n",
       "    </tr>\n",
       "    <tr>\n",
       "      <th>23173</th>\n",
       "      <td>38</td>\n",
       "      <td>male</td>\n",
       "      <td>0</td>\n",
       "      <td>30</td>\n",
       "      <td>149</td>\n",
       "      <td>149</td>\n",
       "      <td>1</td>\n",
       "      <td>1681</td>\n",
       "      <td>0</td>\n",
       "    </tr>\n",
       "    <tr>\n",
       "      <th>23176</th>\n",
       "      <td>38</td>\n",
       "      <td>male</td>\n",
       "      <td>0</td>\n",
       "      <td>30</td>\n",
       "      <td>149</td>\n",
       "      <td>149</td>\n",
       "      <td>1</td>\n",
       "      <td>1181</td>\n",
       "      <td>0</td>\n",
       "    </tr>\n",
       "  </tbody>\n",
       "</table>\n",
       "<p>7015 rows × 9 columns</p>\n",
       "</div>"
      ],
      "text/plain": [
       "       bd  gender  Is_Churn  payment_plan_days  plan_list_price  \\\n",
       "2      32  female         0                 30              180   \n",
       "4      32  female         0                 30              149   \n",
       "10     32  female         0                 30              149   \n",
       "13     32  female         0                 30              149   \n",
       "14     32  female         0                 30              149   \n",
       "19     32  female         0                 30              180   \n",
       "21     32  female         0                 30              149   \n",
       "28     32  female         1                 30              180   \n",
       "30     32  female         0                 30              180   \n",
       "32     37  female         0                 30              149   \n",
       "33     37  female         0                 30              180   \n",
       "34     37  female         0                 30              149   \n",
       "35     37  female         0                 30              149   \n",
       "42     37  female         0                 30              149   \n",
       "43     37  female         0                 30              149   \n",
       "45     37  female         0                 30              149   \n",
       "50     37  female         0                 30              149   \n",
       "55     37  female         0                 30              149   \n",
       "57     37  female         0                 30              149   \n",
       "59     37  female         0                 30              149   \n",
       "64     37  female         1                 30              180   \n",
       "65     37  female         0                 30              149   \n",
       "68     37  female         0                 30              149   \n",
       "69     37  female         0                 30              149   \n",
       "72     37  female         0                 30              149   \n",
       "75     37  female         0                 30              180   \n",
       "77     37  female         0                 30              149   \n",
       "79     37  female         1                180              536   \n",
       "83     37  female         1                 30              149   \n",
       "84     37  female         1                100              480   \n",
       "...    ..     ...       ...                ...              ...   \n",
       "23098  33    male         0                 30              149   \n",
       "23101  33    male         0                 30              149   \n",
       "23105  33    male         0                 30              149   \n",
       "23106  33    male         0                 30              180   \n",
       "23114  33    male         0                 30              149   \n",
       "23115  33    male         0                 30              149   \n",
       "23119  37    male         1                 30              149   \n",
       "23123  37    male         0                 30              100   \n",
       "23129  37    male         0                 30              149   \n",
       "23130  34    male         0                 30              149   \n",
       "23134  34    male         0                 30              149   \n",
       "23136  34    male         0                 30              149   \n",
       "23137  34    male         0                 30              149   \n",
       "23139  34    male         0                 30              149   \n",
       "23140  34    male         0                 30              149   \n",
       "23146  36    male         0                 30              149   \n",
       "23148  36    male         0                 30              149   \n",
       "23151  36    male         0                 30              149   \n",
       "23152  39    male         0                 30              149   \n",
       "23153  39    male         0                 30              180   \n",
       "23159  35    male         0                 30              149   \n",
       "23161  35    male         0                 30              180   \n",
       "23162  35    male         0                 30              180   \n",
       "23163  35    male         0                 30              180   \n",
       "23164  35    male         0                 30              149   \n",
       "23167  35    male         0                 30              180   \n",
       "23168  35    male         0                 30              149   \n",
       "23171  40    male         0                 30              180   \n",
       "23173  38    male         0                 30              149   \n",
       "23176  38    male         0                 30              149   \n",
       "\n",
       "       actual_amount_paid  is_auto_renew  Time on board  is_cancel  \n",
       "2                     180              1           1416          1  \n",
       "4                     149              1           1632          0  \n",
       "10                    149              1           1716          0  \n",
       "13                    149              1            812          0  \n",
       "14                    149              1           1748          0  \n",
       "19                    180              1            787          0  \n",
       "21                    149              1            277          0  \n",
       "28                    180              0           1609          0  \n",
       "30                    180              0            199          0  \n",
       "32                    149              1            672          0  \n",
       "33                    180              0           1785          0  \n",
       "34                    149              1           1094          0  \n",
       "35                    149              1           1513          0  \n",
       "42                    149              1           1082          0  \n",
       "43                    149              1           1747          0  \n",
       "45                    149              1           1591          0  \n",
       "50                    149              1            892          0  \n",
       "55                    149              1            888          0  \n",
       "57                    149              1           1111          0  \n",
       "59                    149              1           1449          0  \n",
       "64                    180              1           1408          1  \n",
       "65                    149              1            427          0  \n",
       "68                    149              1            866          0  \n",
       "69                    149              1            681          0  \n",
       "72                    149              1            664          0  \n",
       "75                    180              0           1591          0  \n",
       "77                    149              1            492          0  \n",
       "79                    536              0           1571          0  \n",
       "83                    149              1           1843          0  \n",
       "84                    480              0           1980          0  \n",
       "...                   ...            ...            ...        ...  \n",
       "23098                 149              1           1777          0  \n",
       "23101                 149              1           1537          0  \n",
       "23105                 149              1            637          0  \n",
       "23106                 180              1            250          0  \n",
       "23114                 149              1           1012          0  \n",
       "23115                 149              1           1254          0  \n",
       "23119                 149              1            858          0  \n",
       "23123                 100              1           1518          0  \n",
       "23129                 149              1            775          0  \n",
       "23130                 149              1            597          0  \n",
       "23134                 149              1           1075          0  \n",
       "23136                 149              1           1560          0  \n",
       "23137                 149              1           1924          0  \n",
       "23139                 149              1           1503          0  \n",
       "23140                 149              1           1294          0  \n",
       "23146                 149              1            535          0  \n",
       "23148                 149              1           1874          0  \n",
       "23151                 149              1           1507          0  \n",
       "23152                 149              1           1580          0  \n",
       "23153                 180              1            141          0  \n",
       "23159                 149              1           1435          0  \n",
       "23161                 180              1           1386          0  \n",
       "23162                 180              1            858          0  \n",
       "23163                 180              1           1116          0  \n",
       "23164                 149              1            833          0  \n",
       "23167                 180              1           1633          0  \n",
       "23168                 149              1           1796          0  \n",
       "23171                 180              1           1541          0  \n",
       "23173                 149              1           1681          0  \n",
       "23176                 149              1           1181          0  \n",
       "\n",
       "[7015 rows x 9 columns]"
      ]
     },
     "execution_count": 14,
     "metadata": {},
     "output_type": "execute_result"
    }
   ],
   "source": [
    "test = test.drop(['msno','Loyalty','split','city','total_secs',\n",
    "             'num_100','num_985','num_75','num_50','num_25',\n",
    "             'Column3','membership_expire_date','Column2','registration_init_time',\n",
    "              'transaction_date','registered_via','Column1','payment_method_id'],axis=1)\n",
    "\n",
    "test.drop('num_unq',axis = 1)"
   ]
  },
  {
   "cell_type": "markdown",
   "metadata": {},
   "source": [
    "Transform the categorical attribute to numerical"
   ]
  },
  {
   "cell_type": "code",
   "execution_count": 15,
   "metadata": {},
   "outputs": [],
   "source": [
    "labelEncoder = LabelEncoder()\n",
    "\n",
    "labelEncoder.fit(train['gender'])\n",
    "labelEncoder.fit(test['gender'])\n",
    "\n",
    "train['gender'] = labelEncoder.fit_transform(train['gender'].astype(str))\n",
    "test['gender'] = labelEncoder.fit_transform(test['gender'].astype(str))\n",
    "train = train.dropna()"
   ]
  },
  {
   "cell_type": "code",
   "execution_count": 16,
   "metadata": {},
   "outputs": [
    {
     "name": "stdout",
     "output_type": "stream",
     "text": [
      "<class 'pandas.core.frame.DataFrame'>\n",
      "Int64Index: 16172 entries, 0 to 23186\n",
      "Data columns (total 9 columns):\n",
      "bd                    16172 non-null int64\n",
      "gender                16172 non-null int64\n",
      "Is_Churn              16172 non-null int64\n",
      "payment_plan_days     16172 non-null int64\n",
      "plan_list_price       16172 non-null int64\n",
      "actual_amount_paid    16172 non-null int64\n",
      "is_auto_renew         16172 non-null int64\n",
      "Time on board         16172 non-null int64\n",
      "is_cancel             16172 non-null int64\n",
      "dtypes: int64(9)\n",
      "memory usage: 1.2 MB\n"
     ]
    }
   ],
   "source": [
    "train.info()"
   ]
  },
  {
   "cell_type": "code",
   "execution_count": 17,
   "metadata": {},
   "outputs": [],
   "source": [
    "test = test.drop(['Is_Churn'], axis=1)"
   ]
  },
  {
   "cell_type": "code",
   "execution_count": 18,
   "metadata": {},
   "outputs": [],
   "source": [
    "test = test.drop(['num_unq'], axis = 1)"
   ]
  },
  {
   "cell_type": "code",
   "execution_count": 19,
   "metadata": {},
   "outputs": [
    {
     "name": "stdout",
     "output_type": "stream",
     "text": [
      "<class 'pandas.core.frame.DataFrame'>\n",
      "Int64Index: 7015 entries, 2 to 23176\n",
      "Data columns (total 8 columns):\n",
      "bd                    7015 non-null int64\n",
      "gender                7015 non-null int64\n",
      "payment_plan_days     7015 non-null int64\n",
      "plan_list_price       7015 non-null int64\n",
      "actual_amount_paid    7015 non-null int64\n",
      "is_auto_renew         7015 non-null int64\n",
      "Time on board         7015 non-null int64\n",
      "is_cancel             7015 non-null int64\n",
      "dtypes: int64(8)\n",
      "memory usage: 493.2 KB\n"
     ]
    }
   ],
   "source": [
    "test.info()"
   ]
  },
  {
   "cell_type": "code",
   "execution_count": 20,
   "metadata": {},
   "outputs": [
    {
     "name": "stdout",
     "output_type": "stream",
     "text": [
      "<class 'pandas.core.frame.DataFrame'>\n",
      "Int64Index: 16172 entries, 0 to 23186\n",
      "Data columns (total 9 columns):\n",
      "bd                    16172 non-null int64\n",
      "gender                16172 non-null int64\n",
      "Is_Churn              16172 non-null int64\n",
      "payment_plan_days     16172 non-null int64\n",
      "plan_list_price       16172 non-null int64\n",
      "actual_amount_paid    16172 non-null int64\n",
      "is_auto_renew         16172 non-null int64\n",
      "Time on board         16172 non-null int64\n",
      "is_cancel             16172 non-null int64\n",
      "dtypes: int64(9)\n",
      "memory usage: 1.2 MB\n"
     ]
    }
   ],
   "source": [
    "train.info()"
   ]
  },
  {
   "cell_type": "code",
   "execution_count": 21,
   "metadata": {},
   "outputs": [],
   "source": [
    "X = np.array(train.drop(['Is_Churn'],1).astype(float))\n",
    "y =  np.array(train['Is_Churn'])"
   ]
  },
  {
   "cell_type": "markdown",
   "metadata": {},
   "source": [
    "Build the kmeans model using k=2 clusters"
   ]
  },
  {
   "cell_type": "code",
   "execution_count": 22,
   "metadata": {},
   "outputs": [
    {
     "data": {
      "text/plain": [
       "KMeans(algorithm='auto', copy_x=True, init='k-means++', max_iter=300,\n",
       "    n_clusters=2, n_init=10, n_jobs=1, precompute_distances='auto',\n",
       "    random_state=None, tol=0.0001, verbose=0)"
      ]
     },
     "execution_count": 22,
     "metadata": {},
     "output_type": "execute_result"
    }
   ],
   "source": [
    "kmeans = KMeans(n_clusters = 2)\n",
    "kmeans.fit(X) # Fit the model to the data"
   ]
  },
  {
   "cell_type": "markdown",
   "metadata": {},
   "source": [
    "Print the accuracy "
   ]
  },
  {
   "cell_type": "code",
   "execution_count": 23,
   "metadata": {},
   "outputs": [],
   "source": [
    "correct = 0\n",
    "for i in range (len(X)):\n",
    "    predict_me = np.array(X[i].astype(float))\n",
    "    predict_me = predict_me.reshape(-1,len(predict_me))\n",
    "    prediction = kmeans.predict(predict_me)\n",
    "    if(prediction[0] == y[i]):\n",
    "        correct+=1"
   ]
  },
  {
   "cell_type": "code",
   "execution_count": 24,
   "metadata": {},
   "outputs": [
    {
     "name": "stdout",
     "output_type": "stream",
     "text": [
      "0.528815236211\n"
     ]
    }
   ],
   "source": [
    "print(correct/len(X))"
   ]
  },
  {
   "cell_type": "markdown",
   "metadata": {},
   "source": [
    "Use theMinMaxScaler and increase the number of iteration. Enhance the model increasing the max iteration to 600."
   ]
  },
  {
   "cell_type": "code",
   "execution_count": 31,
   "metadata": {},
   "outputs": [
    {
     "data": {
      "text/plain": [
       "KMeans(algorithm='auto', copy_x=True, init='k-means++', max_iter=600,\n",
       "    n_clusters=2, n_init=10, n_jobs=1, precompute_distances='auto',\n",
       "    random_state=None, tol=0.0001, verbose=0)"
      ]
     },
     "execution_count": 31,
     "metadata": {},
     "output_type": "execute_result"
    }
   ],
   "source": [
    "kmeans = KMeans(n_clusters=2, max_iter=600, algorithm = 'auto')\n",
    "kmeans.fit(X)"
   ]
  },
  {
   "cell_type": "markdown",
   "metadata": {},
   "source": [
    "## Visualize the classifier results"
   ]
  },
  {
   "cell_type": "markdown",
   "metadata": {},
   "source": [
    "Enhance using the MinMax Scaler to find out if it increases accuracy"
   ]
  },
  {
   "cell_type": "code",
   "execution_count": 32,
   "metadata": {},
   "outputs": [
    {
     "data": {
      "image/png": "[encoded data removed]",
      "text/plain": [
       "<Figure size 432x288 with 1 Axes>"
      ]
     },
     "metadata": {
      "needs_background": "light"
     },
     "output_type": "display_data"
    }
   ],
   "source": [
    "scaler = MinMaxScaler()\n",
    "X_scaled = scaler.fit_transform(X)\n",
    "kmeans.fit(X_scaled)\n",
    "\n",
    "from sklearn.datasets.samples_generator import make_blobs\n",
    "X,y_true = make_blobs(n_samples = 300, centers=2, cluster_std= 0.60, random_state=0)\n",
    "\n",
    "plt.scatter(X[:,0],X[:,1],s=50,cmap='viridis');"
   ]
  },
  {
   "cell_type": "code",
   "execution_count": 33,
   "metadata": {},
   "outputs": [],
   "source": [
    "for i in range (len(X)):\n",
    "    predict_me = np.array(X[i].astype(float))\n",
    "    predict_me = predict_me.reshape(-1,len(predict_me))\n",
    "    prediction = kmeans.predict(predict_me)\n",
    "    if(prediction[0] == y[i]):\n",
    "        correct+=1"
   ]
  },
  {
   "cell_type": "code",
   "execution_count": 34,
   "metadata": {},
   "outputs": [
    {
     "name": "stdout",
     "output_type": "stream",
     "text": [
      "28.9233333333\n"
     ]
    }
   ],
   "source": [
    "print(correct/len(X))"
   ]
  }
 ],
 "metadata": {
  "kernelspec": {
   "display_name": "Python 2",
   "language": "python",
   "name": "python2"
  },
  "language_info": {
   "codemirror_mode": {
    "name": "ipython",
    "version": 2
   },
   "file_extension": ".py",
   "mimetype": "text/x-python",
   "name": "python",
   "nbconvert_exporter": "python",
   "pygments_lexer": "ipython2",
   "version": "2.7.15"
  }
 },
 "nbformat": 4,
 "nbformat_minor": 2
}
